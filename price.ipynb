{
 "cells": [
  {
   "cell_type": "code",
   "execution_count": 2,
   "metadata": {},
   "outputs": [],
   "source": [
    "import numpy as np\n",
    "import pandas as pd\n",
    "import matplotlib.pyplot as plt\n",
    "import math as m\n",
    "%matplotlib inline\n",
    "%config inlinebackend.figure_format='svg'\n"
   ]
  },
  {
   "cell_type": "code",
   "execution_count": 3,
   "metadata": {},
   "outputs": [],
   "source": [
    "data = pd.read_csv('train.csv')"
   ]
  },
  {
   "cell_type": "code",
   "execution_count": 4,
   "metadata": {},
   "outputs": [
    {
     "data": {
      "text/plain": [
       "(10000, 20)"
      ]
     },
     "execution_count": 4,
     "metadata": {},
     "output_type": "execute_result"
    }
   ],
   "source": [
    "data.shape"
   ]
  },
  {
   "cell_type": "code",
   "execution_count": 5,
   "metadata": {},
   "outputs": [
    {
     "data": {
      "text/plain": [
       "Index(['Id', 'DistrictId', 'Rooms', 'Square', 'LifeSquare', 'KitchenSquare',\n",
       "       'Floor', 'HouseFloor', 'HouseYear', 'Ecology_1', 'Ecology_2',\n",
       "       'Ecology_3', 'Social_1', 'Social_2', 'Social_3', 'Healthcare_1',\n",
       "       'Helthcare_2', 'Shops_1', 'Shops_2', 'Price'],\n",
       "      dtype='object')"
      ]
     },
     "execution_count": 5,
     "metadata": {},
     "output_type": "execute_result"
    }
   ],
   "source": [
    "data.columns"
   ]
  },
  {
   "cell_type": "code",
   "execution_count": 6,
   "metadata": {},
   "outputs": [
    {
     "data": {
      "text/html": [
       "<div>\n",
       "<style scoped>\n",
       "    .dataframe tbody tr th:only-of-type {\n",
       "        vertical-align: middle;\n",
       "    }\n",
       "\n",
       "    .dataframe tbody tr th {\n",
       "        vertical-align: top;\n",
       "    }\n",
       "\n",
       "    .dataframe thead th {\n",
       "        text-align: right;\n",
       "    }\n",
       "</style>\n",
       "<table border=\"1\" class=\"dataframe\">\n",
       "  <thead>\n",
       "    <tr style=\"text-align: right;\">\n",
       "      <th></th>\n",
       "      <th>Id</th>\n",
       "      <th>DistrictId</th>\n",
       "      <th>Rooms</th>\n",
       "      <th>Square</th>\n",
       "      <th>LifeSquare</th>\n",
       "      <th>KitchenSquare</th>\n",
       "      <th>Floor</th>\n",
       "      <th>HouseFloor</th>\n",
       "      <th>HouseYear</th>\n",
       "      <th>Ecology_1</th>\n",
       "      <th>Ecology_2</th>\n",
       "      <th>Ecology_3</th>\n",
       "      <th>Social_1</th>\n",
       "      <th>Social_2</th>\n",
       "      <th>Social_3</th>\n",
       "      <th>Healthcare_1</th>\n",
       "      <th>Helthcare_2</th>\n",
       "      <th>Shops_1</th>\n",
       "      <th>Shops_2</th>\n",
       "      <th>Price</th>\n",
       "    </tr>\n",
       "  </thead>\n",
       "  <tbody>\n",
       "    <tr>\n",
       "      <th>0</th>\n",
       "      <td>14038</td>\n",
       "      <td>35</td>\n",
       "      <td>2.0</td>\n",
       "      <td>47.981561</td>\n",
       "      <td>29.442751</td>\n",
       "      <td>6.0</td>\n",
       "      <td>7</td>\n",
       "      <td>9.0</td>\n",
       "      <td>1969</td>\n",
       "      <td>0.089040</td>\n",
       "      <td>B</td>\n",
       "      <td>B</td>\n",
       "      <td>33</td>\n",
       "      <td>7976</td>\n",
       "      <td>5</td>\n",
       "      <td>NaN</td>\n",
       "      <td>0</td>\n",
       "      <td>11</td>\n",
       "      <td>B</td>\n",
       "      <td>184966.930730</td>\n",
       "    </tr>\n",
       "    <tr>\n",
       "      <th>1</th>\n",
       "      <td>15053</td>\n",
       "      <td>41</td>\n",
       "      <td>3.0</td>\n",
       "      <td>65.683640</td>\n",
       "      <td>40.049543</td>\n",
       "      <td>8.0</td>\n",
       "      <td>7</td>\n",
       "      <td>9.0</td>\n",
       "      <td>1978</td>\n",
       "      <td>0.000070</td>\n",
       "      <td>B</td>\n",
       "      <td>B</td>\n",
       "      <td>46</td>\n",
       "      <td>10309</td>\n",
       "      <td>1</td>\n",
       "      <td>240.0</td>\n",
       "      <td>1</td>\n",
       "      <td>16</td>\n",
       "      <td>B</td>\n",
       "      <td>300009.450063</td>\n",
       "    </tr>\n",
       "    <tr>\n",
       "      <th>2</th>\n",
       "      <td>4765</td>\n",
       "      <td>53</td>\n",
       "      <td>2.0</td>\n",
       "      <td>44.947953</td>\n",
       "      <td>29.197612</td>\n",
       "      <td>0.0</td>\n",
       "      <td>8</td>\n",
       "      <td>12.0</td>\n",
       "      <td>1968</td>\n",
       "      <td>0.049637</td>\n",
       "      <td>B</td>\n",
       "      <td>B</td>\n",
       "      <td>34</td>\n",
       "      <td>7759</td>\n",
       "      <td>0</td>\n",
       "      <td>229.0</td>\n",
       "      <td>1</td>\n",
       "      <td>3</td>\n",
       "      <td>B</td>\n",
       "      <td>220925.908524</td>\n",
       "    </tr>\n",
       "  </tbody>\n",
       "</table>\n",
       "</div>"
      ],
      "text/plain": [
       "      Id  DistrictId  Rooms     Square  LifeSquare  KitchenSquare  Floor  \\\n",
       "0  14038          35    2.0  47.981561   29.442751            6.0      7   \n",
       "1  15053          41    3.0  65.683640   40.049543            8.0      7   \n",
       "2   4765          53    2.0  44.947953   29.197612            0.0      8   \n",
       "\n",
       "   HouseFloor  HouseYear  Ecology_1 Ecology_2 Ecology_3  Social_1  Social_2  \\\n",
       "0         9.0       1969   0.089040         B         B        33      7976   \n",
       "1         9.0       1978   0.000070         B         B        46     10309   \n",
       "2        12.0       1968   0.049637         B         B        34      7759   \n",
       "\n",
       "   Social_3  Healthcare_1  Helthcare_2  Shops_1 Shops_2          Price  \n",
       "0         5           NaN            0       11       B  184966.930730  \n",
       "1         1         240.0            1       16       B  300009.450063  \n",
       "2         0         229.0            1        3       B  220925.908524  "
      ]
     },
     "execution_count": 6,
     "metadata": {},
     "output_type": "execute_result"
    }
   ],
   "source": [
    "data.iloc[:,:31].head(3)"
   ]
  },
  {
   "cell_type": "code",
   "execution_count": 7,
   "metadata": {},
   "outputs": [
    {
     "data": {
      "text/plain": [
       "<matplotlib.collections.PathCollection at 0x20bb2a62588>"
      ]
     },
     "execution_count": 7,
     "metadata": {},
     "output_type": "execute_result"
    },
    {
     "data": {
      "image/png": "[encoded data removed]",
      "text/plain": [
       "<Figure size 432x288 with 1 Axes>"
      ]
     },
     "metadata": {
      "needs_background": "light"
     },
     "output_type": "display_data"
    }
   ],
   "source": [
    "plt.scatter(data['Shops_1'],data['Price'])"
   ]
  },
  {
   "cell_type": "code",
   "execution_count": 8,
   "metadata": {},
   "outputs": [],
   "source": [
    "df_index  = data.loc[data['Shops_1']>3019].index"
   ]
  },
  {
   "cell_type": "code",
   "execution_count": 9,
   "metadata": {},
   "outputs": [
    {
     "data": {
      "text/plain": [
       "Int64Index([], dtype='int64')"
      ]
     },
     "execution_count": 9,
     "metadata": {},
     "output_type": "execute_result"
    }
   ],
   "source": [
    "df_index"
   ]
  },
  {
   "cell_type": "markdown",
   "metadata": {},
   "source": [
    "data.drop(df_index,axis=0,inplace=True)"
   ]
  },
  {
   "cell_type": "markdown",
   "metadata": {},
   "source": [
    "data.to_csv('train_clear.csv')"
   ]
  },
  {
   "cell_type": "code",
   "execution_count": 10,
   "metadata": {},
   "outputs": [],
   "source": [
    "data_clear=pd.read_csv('train_clear1.csv',sep=';')"
   ]
  },
  {
   "cell_type": "code",
   "execution_count": 11,
   "metadata": {},
   "outputs": [
    {
     "data": {
      "text/html": [
       "<div>\n",
       "<style scoped>\n",
       "    .dataframe tbody tr th:only-of-type {\n",
       "        vertical-align: middle;\n",
       "    }\n",
       "\n",
       "    .dataframe tbody tr th {\n",
       "        vertical-align: top;\n",
       "    }\n",
       "\n",
       "    .dataframe thead th {\n",
       "        text-align: right;\n",
       "    }\n",
       "</style>\n",
       "<table border=\"1\" class=\"dataframe\">\n",
       "  <thead>\n",
       "    <tr style=\"text-align: right;\">\n",
       "      <th></th>\n",
       "      <th>Id</th>\n",
       "      <th>DistrictId</th>\n",
       "      <th>Rooms</th>\n",
       "      <th>Square</th>\n",
       "      <th>LifeSquare</th>\n",
       "      <th>KitchenSquare</th>\n",
       "      <th>Floor</th>\n",
       "      <th>HouseFloor</th>\n",
       "      <th>HouseYear</th>\n",
       "      <th>Ecology_1</th>\n",
       "      <th>Ecology_2</th>\n",
       "      <th>Ecology_3</th>\n",
       "      <th>Social_1</th>\n",
       "      <th>Social_2</th>\n",
       "      <th>Social_3</th>\n",
       "      <th>Healthcare_1</th>\n",
       "      <th>Helthcare_2</th>\n",
       "      <th>Shops_1</th>\n",
       "      <th>Shops_2</th>\n",
       "      <th>Price</th>\n",
       "    </tr>\n",
       "  </thead>\n",
       "  <tbody>\n",
       "    <tr>\n",
       "      <th>0</th>\n",
       "      <td>14038</td>\n",
       "      <td>35</td>\n",
       "      <td>2</td>\n",
       "      <td>47.981561</td>\n",
       "      <td>29.442751</td>\n",
       "      <td>6</td>\n",
       "      <td>7</td>\n",
       "      <td>9</td>\n",
       "      <td>1969</td>\n",
       "      <td>0.089040</td>\n",
       "      <td>1</td>\n",
       "      <td>1</td>\n",
       "      <td>33</td>\n",
       "      <td>7976</td>\n",
       "      <td>5</td>\n",
       "      <td>NaN</td>\n",
       "      <td>0</td>\n",
       "      <td>11</td>\n",
       "      <td>1</td>\n",
       "      <td>184966.9307</td>\n",
       "    </tr>\n",
       "    <tr>\n",
       "      <th>1</th>\n",
       "      <td>15053</td>\n",
       "      <td>41</td>\n",
       "      <td>3</td>\n",
       "      <td>65.683640</td>\n",
       "      <td>40.049543</td>\n",
       "      <td>8</td>\n",
       "      <td>7</td>\n",
       "      <td>9</td>\n",
       "      <td>1978</td>\n",
       "      <td>0.000070</td>\n",
       "      <td>1</td>\n",
       "      <td>1</td>\n",
       "      <td>46</td>\n",
       "      <td>10309</td>\n",
       "      <td>1</td>\n",
       "      <td>240.0</td>\n",
       "      <td>1</td>\n",
       "      <td>16</td>\n",
       "      <td>1</td>\n",
       "      <td>300009.4501</td>\n",
       "    </tr>\n",
       "    <tr>\n",
       "      <th>2</th>\n",
       "      <td>4765</td>\n",
       "      <td>53</td>\n",
       "      <td>2</td>\n",
       "      <td>44.947953</td>\n",
       "      <td>29.197612</td>\n",
       "      <td>0</td>\n",
       "      <td>8</td>\n",
       "      <td>12</td>\n",
       "      <td>1968</td>\n",
       "      <td>0.049637</td>\n",
       "      <td>1</td>\n",
       "      <td>1</td>\n",
       "      <td>34</td>\n",
       "      <td>7759</td>\n",
       "      <td>0</td>\n",
       "      <td>229.0</td>\n",
       "      <td>1</td>\n",
       "      <td>3</td>\n",
       "      <td>1</td>\n",
       "      <td>220925.9085</td>\n",
       "    </tr>\n",
       "  </tbody>\n",
       "</table>\n",
       "</div>"
      ],
      "text/plain": [
       "      Id  DistrictId  Rooms     Square  LifeSquare  KitchenSquare  Floor  \\\n",
       "0  14038          35      2  47.981561   29.442751              6      7   \n",
       "1  15053          41      3  65.683640   40.049543              8      7   \n",
       "2   4765          53      2  44.947953   29.197612              0      8   \n",
       "\n",
       "   HouseFloor  HouseYear  Ecology_1  Ecology_2  Ecology_3  Social_1  Social_2  \\\n",
       "0           9       1969   0.089040          1          1        33      7976   \n",
       "1           9       1978   0.000070          1          1        46     10309   \n",
       "2          12       1968   0.049637          1          1        34      7759   \n",
       "\n",
       "   Social_3  Healthcare_1  Helthcare_2  Shops_1  Shops_2        Price  \n",
       "0         5           NaN            0       11        1  184966.9307  \n",
       "1         1         240.0            1       16        1  300009.4501  \n",
       "2         0         229.0            1        3        1  220925.9085  "
      ]
     },
     "execution_count": 11,
     "metadata": {},
     "output_type": "execute_result"
    }
   ],
   "source": [
    "data_clear.iloc[:,:31].head(3)"
   ]
  },
  {
   "cell_type": "code",
   "execution_count": 12,
   "metadata": {},
   "outputs": [
    {
     "data": {
      "text/plain": [
       "(9913, 20)"
      ]
     },
     "execution_count": 12,
     "metadata": {},
     "output_type": "execute_result"
    }
   ],
   "source": [
    "data_clear.shape"
   ]
  },
  {
   "cell_type": "code",
   "execution_count": 13,
   "metadata": {},
   "outputs": [
    {
     "name": "stdout",
     "output_type": "stream",
     "text": [
      "<class 'pandas.core.frame.DataFrame'>\n",
      "RangeIndex: 9913 entries, 0 to 9912\n",
      "Data columns (total 20 columns):\n",
      "Id               9913 non-null int64\n",
      "DistrictId       9913 non-null int64\n",
      "Rooms            9913 non-null int64\n",
      "Square           9913 non-null float64\n",
      "LifeSquare       7802 non-null float64\n",
      "KitchenSquare    9913 non-null int64\n",
      "Floor            9913 non-null int64\n",
      "HouseFloor       9913 non-null int64\n",
      "HouseYear        9913 non-null int64\n",
      "Ecology_1        9913 non-null float64\n",
      "Ecology_2        9913 non-null int64\n",
      "Ecology_3        9913 non-null int64\n",
      "Social_1         9913 non-null int64\n",
      "Social_2         9913 non-null int64\n",
      "Social_3         9913 non-null int64\n",
      "Healthcare_1     5158 non-null float64\n",
      "Helthcare_2      9913 non-null int64\n",
      "Shops_1          9913 non-null int64\n",
      "Shops_2          9913 non-null int64\n",
      "Price            9913 non-null float64\n",
      "dtypes: float64(5), int64(15)\n",
      "memory usage: 1.5 MB\n"
     ]
    }
   ],
   "source": [
    "data_clear.info()"
   ]
  },
  {
   "cell_type": "code",
   "execution_count": 14,
   "metadata": {},
   "outputs": [
    {
     "data": {
      "text/html": [
       "<div>\n",
       "<style scoped>\n",
       "    .dataframe tbody tr th:only-of-type {\n",
       "        vertical-align: middle;\n",
       "    }\n",
       "\n",
       "    .dataframe tbody tr th {\n",
       "        vertical-align: top;\n",
       "    }\n",
       "\n",
       "    .dataframe thead th {\n",
       "        text-align: right;\n",
       "    }\n",
       "</style>\n",
       "<table border=\"1\" class=\"dataframe\">\n",
       "  <thead>\n",
       "    <tr style=\"text-align: right;\">\n",
       "      <th></th>\n",
       "      <th>Id</th>\n",
       "      <th>DistrictId</th>\n",
       "      <th>Rooms</th>\n",
       "      <th>Square</th>\n",
       "      <th>LifeSquare</th>\n",
       "      <th>KitchenSquare</th>\n",
       "      <th>Floor</th>\n",
       "      <th>HouseFloor</th>\n",
       "      <th>HouseYear</th>\n",
       "      <th>Ecology_1</th>\n",
       "      <th>Ecology_2</th>\n",
       "      <th>Ecology_3</th>\n",
       "      <th>Social_1</th>\n",
       "      <th>Social_2</th>\n",
       "      <th>Social_3</th>\n",
       "      <th>Healthcare_1</th>\n",
       "      <th>Helthcare_2</th>\n",
       "      <th>Shops_1</th>\n",
       "      <th>Shops_2</th>\n",
       "      <th>Price</th>\n",
       "    </tr>\n",
       "  </thead>\n",
       "  <tbody>\n",
       "    <tr>\n",
       "      <th>count</th>\n",
       "      <td>9913.000000</td>\n",
       "      <td>9913.000000</td>\n",
       "      <td>9913.000000</td>\n",
       "      <td>9913.000000</td>\n",
       "      <td>7802.000000</td>\n",
       "      <td>9913.000000</td>\n",
       "      <td>9913.000000</td>\n",
       "      <td>9913.000000</td>\n",
       "      <td>9913.000000</td>\n",
       "      <td>9913.000000</td>\n",
       "      <td>9913.000000</td>\n",
       "      <td>9913.000000</td>\n",
       "      <td>9913.000000</td>\n",
       "      <td>9913.000000</td>\n",
       "      <td>9913.000000</td>\n",
       "      <td>5158.000000</td>\n",
       "      <td>9913.000000</td>\n",
       "      <td>9913.000000</td>\n",
       "      <td>9913.000000</td>\n",
       "      <td>9913.000000</td>\n",
       "    </tr>\n",
       "    <tr>\n",
       "      <th>mean</th>\n",
       "      <td>8382.423989</td>\n",
       "      <td>50.407243</td>\n",
       "      <td>1.885907</td>\n",
       "      <td>55.849315</td>\n",
       "      <td>35.599392</td>\n",
       "      <td>5.703420</td>\n",
       "      <td>8.502068</td>\n",
       "      <td>12.530314</td>\n",
       "      <td>1984.721578</td>\n",
       "      <td>0.119090</td>\n",
       "      <td>0.990215</td>\n",
       "      <td>0.972965</td>\n",
       "      <td>24.711389</td>\n",
       "      <td>5355.575103</td>\n",
       "      <td>7.958338</td>\n",
       "      <td>1142.981000</td>\n",
       "      <td>1.314738</td>\n",
       "      <td>4.221729</td>\n",
       "      <td>0.917684</td>\n",
       "      <td>213638.209198</td>\n",
       "    </tr>\n",
       "    <tr>\n",
       "      <th>std</th>\n",
       "      <td>4857.915839</td>\n",
       "      <td>43.636551</td>\n",
       "      <td>0.811039</td>\n",
       "      <td>18.399336</td>\n",
       "      <td>16.517645</td>\n",
       "      <td>3.994019</td>\n",
       "      <td>5.181533</td>\n",
       "      <td>6.441213</td>\n",
       "      <td>18.352133</td>\n",
       "      <td>0.119160</td>\n",
       "      <td>0.098440</td>\n",
       "      <td>0.162194</td>\n",
       "      <td>17.534295</td>\n",
       "      <td>4006.885703</td>\n",
       "      <td>23.624124</td>\n",
       "      <td>1021.949773</td>\n",
       "      <td>1.488048</td>\n",
       "      <td>4.786004</td>\n",
       "      <td>0.274860</td>\n",
       "      <td>92235.293322</td>\n",
       "    </tr>\n",
       "    <tr>\n",
       "      <th>min</th>\n",
       "      <td>0.000000</td>\n",
       "      <td>0.000000</td>\n",
       "      <td>0.000000</td>\n",
       "      <td>1.136859</td>\n",
       "      <td>0.370619</td>\n",
       "      <td>0.000000</td>\n",
       "      <td>1.000000</td>\n",
       "      <td>0.000000</td>\n",
       "      <td>1910.000000</td>\n",
       "      <td>0.000000</td>\n",
       "      <td>0.000000</td>\n",
       "      <td>0.000000</td>\n",
       "      <td>0.000000</td>\n",
       "      <td>168.000000</td>\n",
       "      <td>0.000000</td>\n",
       "      <td>0.000000</td>\n",
       "      <td>0.000000</td>\n",
       "      <td>0.000000</td>\n",
       "      <td>0.000000</td>\n",
       "      <td>59174.778030</td>\n",
       "    </tr>\n",
       "    <tr>\n",
       "      <th>25%</th>\n",
       "      <td>4166.000000</td>\n",
       "      <td>19.000000</td>\n",
       "      <td>1.000000</td>\n",
       "      <td>41.740799</td>\n",
       "      <td>22.720399</td>\n",
       "      <td>1.000000</td>\n",
       "      <td>4.000000</td>\n",
       "      <td>9.000000</td>\n",
       "      <td>1974.000000</td>\n",
       "      <td>0.017647</td>\n",
       "      <td>1.000000</td>\n",
       "      <td>1.000000</td>\n",
       "      <td>6.000000</td>\n",
       "      <td>1564.000000</td>\n",
       "      <td>0.000000</td>\n",
       "      <td>350.000000</td>\n",
       "      <td>0.000000</td>\n",
       "      <td>1.000000</td>\n",
       "      <td>1.000000</td>\n",
       "      <td>153808.642700</td>\n",
       "    </tr>\n",
       "    <tr>\n",
       "      <th>50%</th>\n",
       "      <td>8396.000000</td>\n",
       "      <td>36.000000</td>\n",
       "      <td>2.000000</td>\n",
       "      <td>52.356269</td>\n",
       "      <td>32.657097</td>\n",
       "      <td>6.000000</td>\n",
       "      <td>7.000000</td>\n",
       "      <td>13.000000</td>\n",
       "      <td>1977.000000</td>\n",
       "      <td>0.075424</td>\n",
       "      <td>1.000000</td>\n",
       "      <td>1.000000</td>\n",
       "      <td>25.000000</td>\n",
       "      <td>5285.000000</td>\n",
       "      <td>2.000000</td>\n",
       "      <td>900.000000</td>\n",
       "      <td>1.000000</td>\n",
       "      <td>3.000000</td>\n",
       "      <td>1.000000</td>\n",
       "      <td>192022.684600</td>\n",
       "    </tr>\n",
       "    <tr>\n",
       "      <th>75%</th>\n",
       "      <td>12592.000000</td>\n",
       "      <td>75.000000</td>\n",
       "      <td>2.000000</td>\n",
       "      <td>65.786021</td>\n",
       "      <td>44.917857</td>\n",
       "      <td>9.000000</td>\n",
       "      <td>12.000000</td>\n",
       "      <td>17.000000</td>\n",
       "      <td>2000.000000</td>\n",
       "      <td>0.195781</td>\n",
       "      <td>1.000000</td>\n",
       "      <td>1.000000</td>\n",
       "      <td>36.000000</td>\n",
       "      <td>7227.000000</td>\n",
       "      <td>5.000000</td>\n",
       "      <td>1548.000000</td>\n",
       "      <td>2.000000</td>\n",
       "      <td>6.000000</td>\n",
       "      <td>1.000000</td>\n",
       "      <td>248648.730000</td>\n",
       "    </tr>\n",
       "    <tr>\n",
       "      <th>max</th>\n",
       "      <td>16798.000000</td>\n",
       "      <td>209.000000</td>\n",
       "      <td>5.000000</td>\n",
       "      <td>190.857689</td>\n",
       "      <td>118.986655</td>\n",
       "      <td>40.000000</td>\n",
       "      <td>28.000000</td>\n",
       "      <td>30.000000</td>\n",
       "      <td>2020.000000</td>\n",
       "      <td>0.521867</td>\n",
       "      <td>1.000000</td>\n",
       "      <td>1.000000</td>\n",
       "      <td>74.000000</td>\n",
       "      <td>19083.000000</td>\n",
       "      <td>141.000000</td>\n",
       "      <td>4849.000000</td>\n",
       "      <td>6.000000</td>\n",
       "      <td>23.000000</td>\n",
       "      <td>1.000000</td>\n",
       "      <td>633233.466600</td>\n",
       "    </tr>\n",
       "  </tbody>\n",
       "</table>\n",
       "</div>"
      ],
      "text/plain": [
       "                 Id   DistrictId        Rooms       Square   LifeSquare  \\\n",
       "count   9913.000000  9913.000000  9913.000000  9913.000000  7802.000000   \n",
       "mean    8382.423989    50.407243     1.885907    55.849315    35.599392   \n",
       "std     4857.915839    43.636551     0.811039    18.399336    16.517645   \n",
       "min        0.000000     0.000000     0.000000     1.136859     0.370619   \n",
       "25%     4166.000000    19.000000     1.000000    41.740799    22.720399   \n",
       "50%     8396.000000    36.000000     2.000000    52.356269    32.657097   \n",
       "75%    12592.000000    75.000000     2.000000    65.786021    44.917857   \n",
       "max    16798.000000   209.000000     5.000000   190.857689   118.986655   \n",
       "\n",
       "       KitchenSquare        Floor   HouseFloor    HouseYear    Ecology_1  \\\n",
       "count    9913.000000  9913.000000  9913.000000  9913.000000  9913.000000   \n",
       "mean        5.703420     8.502068    12.530314  1984.721578     0.119090   \n",
       "std         3.994019     5.181533     6.441213    18.352133     0.119160   \n",
       "min         0.000000     1.000000     0.000000  1910.000000     0.000000   \n",
       "25%         1.000000     4.000000     9.000000  1974.000000     0.017647   \n",
       "50%         6.000000     7.000000    13.000000  1977.000000     0.075424   \n",
       "75%         9.000000    12.000000    17.000000  2000.000000     0.195781   \n",
       "max        40.000000    28.000000    30.000000  2020.000000     0.521867   \n",
       "\n",
       "         Ecology_2    Ecology_3     Social_1      Social_2     Social_3  \\\n",
       "count  9913.000000  9913.000000  9913.000000   9913.000000  9913.000000   \n",
       "mean      0.990215     0.972965    24.711389   5355.575103     7.958338   \n",
       "std       0.098440     0.162194    17.534295   4006.885703    23.624124   \n",
       "min       0.000000     0.000000     0.000000    168.000000     0.000000   \n",
       "25%       1.000000     1.000000     6.000000   1564.000000     0.000000   \n",
       "50%       1.000000     1.000000    25.000000   5285.000000     2.000000   \n",
       "75%       1.000000     1.000000    36.000000   7227.000000     5.000000   \n",
       "max       1.000000     1.000000    74.000000  19083.000000   141.000000   \n",
       "\n",
       "       Healthcare_1  Helthcare_2      Shops_1      Shops_2          Price  \n",
       "count   5158.000000  9913.000000  9913.000000  9913.000000    9913.000000  \n",
       "mean    1142.981000     1.314738     4.221729     0.917684  213638.209198  \n",
       "std     1021.949773     1.488048     4.786004     0.274860   92235.293322  \n",
       "min        0.000000     0.000000     0.000000     0.000000   59174.778030  \n",
       "25%      350.000000     0.000000     1.000000     1.000000  153808.642700  \n",
       "50%      900.000000     1.000000     3.000000     1.000000  192022.684600  \n",
       "75%     1548.000000     2.000000     6.000000     1.000000  248648.730000  \n",
       "max     4849.000000     6.000000    23.000000     1.000000  633233.466600  "
      ]
     },
     "execution_count": 14,
     "metadata": {},
     "output_type": "execute_result"
    }
   ],
   "source": [
    "data_clear.describe()"
   ]
  },
  {
   "cell_type": "code",
   "execution_count": 15,
   "metadata": {},
   "outputs": [
    {
     "data": {
      "text/html": [
       "<div>\n",
       "<style scoped>\n",
       "    .dataframe tbody tr th:only-of-type {\n",
       "        vertical-align: middle;\n",
       "    }\n",
       "\n",
       "    .dataframe tbody tr th {\n",
       "        vertical-align: top;\n",
       "    }\n",
       "\n",
       "    .dataframe thead th {\n",
       "        text-align: right;\n",
       "    }\n",
       "</style>\n",
       "<table border=\"1\" class=\"dataframe\">\n",
       "  <thead>\n",
       "    <tr style=\"text-align: right;\">\n",
       "      <th></th>\n",
       "      <th>Id</th>\n",
       "      <th>DistrictId</th>\n",
       "      <th>Rooms</th>\n",
       "      <th>Square</th>\n",
       "      <th>LifeSquare</th>\n",
       "      <th>KitchenSquare</th>\n",
       "      <th>Floor</th>\n",
       "      <th>HouseFloor</th>\n",
       "      <th>HouseYear</th>\n",
       "      <th>Ecology_1</th>\n",
       "      <th>Ecology_2</th>\n",
       "      <th>Ecology_3</th>\n",
       "      <th>Social_1</th>\n",
       "      <th>Social_2</th>\n",
       "      <th>Social_3</th>\n",
       "      <th>Healthcare_1</th>\n",
       "      <th>Helthcare_2</th>\n",
       "      <th>Shops_1</th>\n",
       "      <th>Shops_2</th>\n",
       "      <th>Price</th>\n",
       "    </tr>\n",
       "  </thead>\n",
       "  <tbody>\n",
       "    <tr>\n",
       "      <th>Id</th>\n",
       "      <td>1.000000</td>\n",
       "      <td>0.013121</td>\n",
       "      <td>-0.006145</td>\n",
       "      <td>-0.004354</td>\n",
       "      <td>-0.004127</td>\n",
       "      <td>0.014222</td>\n",
       "      <td>0.002511</td>\n",
       "      <td>-0.006134</td>\n",
       "      <td>0.004099</td>\n",
       "      <td>0.017297</td>\n",
       "      <td>0.003093</td>\n",
       "      <td>-0.005796</td>\n",
       "      <td>-0.001678</td>\n",
       "      <td>-0.002826</td>\n",
       "      <td>-0.007377</td>\n",
       "      <td>-0.004178</td>\n",
       "      <td>0.001205</td>\n",
       "      <td>-0.007859</td>\n",
       "      <td>0.004586</td>\n",
       "      <td>0.009315</td>\n",
       "    </tr>\n",
       "    <tr>\n",
       "      <th>DistrictId</th>\n",
       "      <td>0.013121</td>\n",
       "      <td>1.000000</td>\n",
       "      <td>0.077007</td>\n",
       "      <td>-0.027737</td>\n",
       "      <td>-0.062989</td>\n",
       "      <td>0.244466</td>\n",
       "      <td>-0.123473</td>\n",
       "      <td>-0.157527</td>\n",
       "      <td>-0.202475</td>\n",
       "      <td>0.064061</td>\n",
       "      <td>-0.093699</td>\n",
       "      <td>-0.029476</td>\n",
       "      <td>0.247281</td>\n",
       "      <td>0.168084</td>\n",
       "      <td>0.139152</td>\n",
       "      <td>0.304043</td>\n",
       "      <td>0.307341</td>\n",
       "      <td>0.175241</td>\n",
       "      <td>-0.021161</td>\n",
       "      <td>0.268122</td>\n",
       "    </tr>\n",
       "    <tr>\n",
       "      <th>Rooms</th>\n",
       "      <td>-0.006145</td>\n",
       "      <td>0.077007</td>\n",
       "      <td>1.000000</td>\n",
       "      <td>0.779301</td>\n",
       "      <td>0.629425</td>\n",
       "      <td>0.129985</td>\n",
       "      <td>-0.001876</td>\n",
       "      <td>-0.028316</td>\n",
       "      <td>-0.046335</td>\n",
       "      <td>-0.030516</td>\n",
       "      <td>-0.002612</td>\n",
       "      <td>-0.006578</td>\n",
       "      <td>0.077892</td>\n",
       "      <td>0.072082</td>\n",
       "      <td>0.015459</td>\n",
       "      <td>0.041947</td>\n",
       "      <td>0.067291</td>\n",
       "      <td>0.055329</td>\n",
       "      <td>-0.000498</td>\n",
       "      <td>0.575995</td>\n",
       "    </tr>\n",
       "    <tr>\n",
       "      <th>Square</th>\n",
       "      <td>-0.004354</td>\n",
       "      <td>-0.027737</td>\n",
       "      <td>0.779301</td>\n",
       "      <td>1.000000</td>\n",
       "      <td>0.742127</td>\n",
       "      <td>0.091034</td>\n",
       "      <td>0.122227</td>\n",
       "      <td>0.085228</td>\n",
       "      <td>0.183535</td>\n",
       "      <td>-0.068971</td>\n",
       "      <td>0.031883</td>\n",
       "      <td>0.034056</td>\n",
       "      <td>-0.076487</td>\n",
       "      <td>-0.047263</td>\n",
       "      <td>0.014447</td>\n",
       "      <td>-0.046252</td>\n",
       "      <td>-0.039050</td>\n",
       "      <td>0.006899</td>\n",
       "      <td>-0.057668</td>\n",
       "      <td>0.587153</td>\n",
       "    </tr>\n",
       "    <tr>\n",
       "      <th>LifeSquare</th>\n",
       "      <td>-0.004127</td>\n",
       "      <td>-0.062989</td>\n",
       "      <td>0.629425</td>\n",
       "      <td>0.742127</td>\n",
       "      <td>1.000000</td>\n",
       "      <td>-0.041160</td>\n",
       "      <td>0.111751</td>\n",
       "      <td>0.100855</td>\n",
       "      <td>0.183354</td>\n",
       "      <td>-0.061778</td>\n",
       "      <td>0.025216</td>\n",
       "      <td>0.034844</td>\n",
       "      <td>-0.144140</td>\n",
       "      <td>-0.110777</td>\n",
       "      <td>0.038935</td>\n",
       "      <td>-0.042749</td>\n",
       "      <td>-0.076899</td>\n",
       "      <td>-0.008045</td>\n",
       "      <td>-0.035535</td>\n",
       "      <td>0.413654</td>\n",
       "    </tr>\n",
       "    <tr>\n",
       "      <th>KitchenSquare</th>\n",
       "      <td>0.014222</td>\n",
       "      <td>0.244466</td>\n",
       "      <td>0.129985</td>\n",
       "      <td>0.091034</td>\n",
       "      <td>-0.041160</td>\n",
       "      <td>1.000000</td>\n",
       "      <td>-0.022819</td>\n",
       "      <td>0.169162</td>\n",
       "      <td>0.166240</td>\n",
       "      <td>0.028795</td>\n",
       "      <td>-0.012257</td>\n",
       "      <td>-0.066575</td>\n",
       "      <td>0.375135</td>\n",
       "      <td>0.340249</td>\n",
       "      <td>-0.066866</td>\n",
       "      <td>0.119225</td>\n",
       "      <td>0.204725</td>\n",
       "      <td>0.113367</td>\n",
       "      <td>0.038046</td>\n",
       "      <td>0.303117</td>\n",
       "    </tr>\n",
       "    <tr>\n",
       "      <th>Floor</th>\n",
       "      <td>0.002511</td>\n",
       "      <td>-0.123473</td>\n",
       "      <td>-0.001876</td>\n",
       "      <td>0.122227</td>\n",
       "      <td>0.111751</td>\n",
       "      <td>-0.022819</td>\n",
       "      <td>1.000000</td>\n",
       "      <td>0.421559</td>\n",
       "      <td>0.284392</td>\n",
       "      <td>-0.015193</td>\n",
       "      <td>0.049982</td>\n",
       "      <td>0.033559</td>\n",
       "      <td>-0.048601</td>\n",
       "      <td>-0.019816</td>\n",
       "      <td>-0.008832</td>\n",
       "      <td>-0.139334</td>\n",
       "      <td>-0.076957</td>\n",
       "      <td>0.018940</td>\n",
       "      <td>-0.017448</td>\n",
       "      <td>0.125640</td>\n",
       "    </tr>\n",
       "    <tr>\n",
       "      <th>HouseFloor</th>\n",
       "      <td>-0.006134</td>\n",
       "      <td>-0.157527</td>\n",
       "      <td>-0.028316</td>\n",
       "      <td>0.085228</td>\n",
       "      <td>0.100855</td>\n",
       "      <td>0.169162</td>\n",
       "      <td>0.421559</td>\n",
       "      <td>1.000000</td>\n",
       "      <td>0.407628</td>\n",
       "      <td>-0.000423</td>\n",
       "      <td>0.061487</td>\n",
       "      <td>0.026085</td>\n",
       "      <td>-0.024449</td>\n",
       "      <td>0.004416</td>\n",
       "      <td>-0.027729</td>\n",
       "      <td>-0.161481</td>\n",
       "      <td>-0.091054</td>\n",
       "      <td>0.014502</td>\n",
       "      <td>0.048365</td>\n",
       "      <td>0.079445</td>\n",
       "    </tr>\n",
       "    <tr>\n",
       "      <th>HouseYear</th>\n",
       "      <td>0.004099</td>\n",
       "      <td>-0.202475</td>\n",
       "      <td>-0.046335</td>\n",
       "      <td>0.183535</td>\n",
       "      <td>0.183354</td>\n",
       "      <td>0.166240</td>\n",
       "      <td>0.284392</td>\n",
       "      <td>0.407628</td>\n",
       "      <td>1.000000</td>\n",
       "      <td>-0.063987</td>\n",
       "      <td>0.076619</td>\n",
       "      <td>0.049803</td>\n",
       "      <td>-0.046313</td>\n",
       "      <td>0.015362</td>\n",
       "      <td>-0.053950</td>\n",
       "      <td>-0.207090</td>\n",
       "      <td>-0.120857</td>\n",
       "      <td>-0.003593</td>\n",
       "      <td>-0.058045</td>\n",
       "      <td>0.030721</td>\n",
       "    </tr>\n",
       "    <tr>\n",
       "      <th>Ecology_1</th>\n",
       "      <td>0.017297</td>\n",
       "      <td>0.064061</td>\n",
       "      <td>-0.030516</td>\n",
       "      <td>-0.068971</td>\n",
       "      <td>-0.061778</td>\n",
       "      <td>0.028795</td>\n",
       "      <td>-0.015193</td>\n",
       "      <td>-0.000423</td>\n",
       "      <td>-0.063987</td>\n",
       "      <td>1.000000</td>\n",
       "      <td>-0.110894</td>\n",
       "      <td>-0.225203</td>\n",
       "      <td>0.025902</td>\n",
       "      <td>0.008849</td>\n",
       "      <td>-0.122329</td>\n",
       "      <td>-0.044293</td>\n",
       "      <td>0.031961</td>\n",
       "      <td>-0.075741</td>\n",
       "      <td>0.079790</td>\n",
       "      <td>-0.057793</td>\n",
       "    </tr>\n",
       "    <tr>\n",
       "      <th>Ecology_2</th>\n",
       "      <td>0.003093</td>\n",
       "      <td>-0.093699</td>\n",
       "      <td>-0.002612</td>\n",
       "      <td>0.031883</td>\n",
       "      <td>0.025216</td>\n",
       "      <td>-0.012257</td>\n",
       "      <td>0.049982</td>\n",
       "      <td>0.061487</td>\n",
       "      <td>0.076619</td>\n",
       "      <td>-0.110894</td>\n",
       "      <td>1.000000</td>\n",
       "      <td>-0.016570</td>\n",
       "      <td>-0.066165</td>\n",
       "      <td>-0.012680</td>\n",
       "      <td>0.008284</td>\n",
       "      <td>-0.031838</td>\n",
       "      <td>-0.083661</td>\n",
       "      <td>0.052144</td>\n",
       "      <td>0.022429</td>\n",
       "      <td>0.022094</td>\n",
       "    </tr>\n",
       "    <tr>\n",
       "      <th>Ecology_3</th>\n",
       "      <td>-0.005796</td>\n",
       "      <td>-0.029476</td>\n",
       "      <td>-0.006578</td>\n",
       "      <td>0.034056</td>\n",
       "      <td>0.034844</td>\n",
       "      <td>-0.066575</td>\n",
       "      <td>0.033559</td>\n",
       "      <td>0.026085</td>\n",
       "      <td>0.049803</td>\n",
       "      <td>-0.225203</td>\n",
       "      <td>-0.016570</td>\n",
       "      <td>1.000000</td>\n",
       "      <td>-0.036409</td>\n",
       "      <td>0.008420</td>\n",
       "      <td>0.014635</td>\n",
       "      <td>-0.115303</td>\n",
       "      <td>-0.129019</td>\n",
       "      <td>-0.000595</td>\n",
       "      <td>-0.049924</td>\n",
       "      <td>-0.041743</td>\n",
       "    </tr>\n",
       "    <tr>\n",
       "      <th>Social_1</th>\n",
       "      <td>-0.001678</td>\n",
       "      <td>0.247281</td>\n",
       "      <td>0.077892</td>\n",
       "      <td>-0.076487</td>\n",
       "      <td>-0.144140</td>\n",
       "      <td>0.375135</td>\n",
       "      <td>-0.048601</td>\n",
       "      <td>-0.024449</td>\n",
       "      <td>-0.046313</td>\n",
       "      <td>0.025902</td>\n",
       "      <td>-0.066165</td>\n",
       "      <td>-0.036409</td>\n",
       "      <td>1.000000</td>\n",
       "      <td>0.955965</td>\n",
       "      <td>0.024474</td>\n",
       "      <td>0.077923</td>\n",
       "      <td>0.526139</td>\n",
       "      <td>0.529052</td>\n",
       "      <td>0.142190</td>\n",
       "      <td>0.264160</td>\n",
       "    </tr>\n",
       "    <tr>\n",
       "      <th>Social_2</th>\n",
       "      <td>-0.002826</td>\n",
       "      <td>0.168084</td>\n",
       "      <td>0.072082</td>\n",
       "      <td>-0.047263</td>\n",
       "      <td>-0.110777</td>\n",
       "      <td>0.340249</td>\n",
       "      <td>-0.019816</td>\n",
       "      <td>0.004416</td>\n",
       "      <td>0.015362</td>\n",
       "      <td>0.008849</td>\n",
       "      <td>-0.012680</td>\n",
       "      <td>0.008420</td>\n",
       "      <td>0.955965</td>\n",
       "      <td>1.000000</td>\n",
       "      <td>0.073142</td>\n",
       "      <td>0.050723</td>\n",
       "      <td>0.475182</td>\n",
       "      <td>0.561178</td>\n",
       "      <td>0.141544</td>\n",
       "      <td>0.239888</td>\n",
       "    </tr>\n",
       "    <tr>\n",
       "      <th>Social_3</th>\n",
       "      <td>-0.007377</td>\n",
       "      <td>0.139152</td>\n",
       "      <td>0.015459</td>\n",
       "      <td>0.014447</td>\n",
       "      <td>0.038935</td>\n",
       "      <td>-0.066866</td>\n",
       "      <td>-0.008832</td>\n",
       "      <td>-0.027729</td>\n",
       "      <td>-0.053950</td>\n",
       "      <td>-0.122329</td>\n",
       "      <td>0.008284</td>\n",
       "      <td>0.014635</td>\n",
       "      <td>0.024474</td>\n",
       "      <td>0.073142</td>\n",
       "      <td>1.000000</td>\n",
       "      <td>0.136091</td>\n",
       "      <td>0.287004</td>\n",
       "      <td>0.657862</td>\n",
       "      <td>0.082347</td>\n",
       "      <td>0.074433</td>\n",
       "    </tr>\n",
       "    <tr>\n",
       "      <th>Healthcare_1</th>\n",
       "      <td>-0.004178</td>\n",
       "      <td>0.304043</td>\n",
       "      <td>0.041947</td>\n",
       "      <td>-0.046252</td>\n",
       "      <td>-0.042749</td>\n",
       "      <td>0.119225</td>\n",
       "      <td>-0.139334</td>\n",
       "      <td>-0.161481</td>\n",
       "      <td>-0.207090</td>\n",
       "      <td>-0.044293</td>\n",
       "      <td>-0.031838</td>\n",
       "      <td>-0.115303</td>\n",
       "      <td>0.077923</td>\n",
       "      <td>0.050723</td>\n",
       "      <td>0.136091</td>\n",
       "      <td>1.000000</td>\n",
       "      <td>0.207804</td>\n",
       "      <td>0.058479</td>\n",
       "      <td>-0.031193</td>\n",
       "      <td>0.140202</td>\n",
       "    </tr>\n",
       "    <tr>\n",
       "      <th>Helthcare_2</th>\n",
       "      <td>0.001205</td>\n",
       "      <td>0.307341</td>\n",
       "      <td>0.067291</td>\n",
       "      <td>-0.039050</td>\n",
       "      <td>-0.076899</td>\n",
       "      <td>0.204725</td>\n",
       "      <td>-0.076957</td>\n",
       "      <td>-0.091054</td>\n",
       "      <td>-0.120857</td>\n",
       "      <td>0.031961</td>\n",
       "      <td>-0.083661</td>\n",
       "      <td>-0.129019</td>\n",
       "      <td>0.526139</td>\n",
       "      <td>0.475182</td>\n",
       "      <td>0.287004</td>\n",
       "      <td>0.207804</td>\n",
       "      <td>1.000000</td>\n",
       "      <td>0.474665</td>\n",
       "      <td>0.121317</td>\n",
       "      <td>0.250222</td>\n",
       "    </tr>\n",
       "    <tr>\n",
       "      <th>Shops_1</th>\n",
       "      <td>-0.007859</td>\n",
       "      <td>0.175241</td>\n",
       "      <td>0.055329</td>\n",
       "      <td>0.006899</td>\n",
       "      <td>-0.008045</td>\n",
       "      <td>0.113367</td>\n",
       "      <td>0.018940</td>\n",
       "      <td>0.014502</td>\n",
       "      <td>-0.003593</td>\n",
       "      <td>-0.075741</td>\n",
       "      <td>0.052144</td>\n",
       "      <td>-0.000595</td>\n",
       "      <td>0.529052</td>\n",
       "      <td>0.561178</td>\n",
       "      <td>0.657862</td>\n",
       "      <td>0.058479</td>\n",
       "      <td>0.474665</td>\n",
       "      <td>1.000000</td>\n",
       "      <td>0.137505</td>\n",
       "      <td>0.182414</td>\n",
       "    </tr>\n",
       "    <tr>\n",
       "      <th>Shops_2</th>\n",
       "      <td>0.004586</td>\n",
       "      <td>-0.021161</td>\n",
       "      <td>-0.000498</td>\n",
       "      <td>-0.057668</td>\n",
       "      <td>-0.035535</td>\n",
       "      <td>0.038046</td>\n",
       "      <td>-0.017448</td>\n",
       "      <td>0.048365</td>\n",
       "      <td>-0.058045</td>\n",
       "      <td>0.079790</td>\n",
       "      <td>0.022429</td>\n",
       "      <td>-0.049924</td>\n",
       "      <td>0.142190</td>\n",
       "      <td>0.141544</td>\n",
       "      <td>0.082347</td>\n",
       "      <td>-0.031193</td>\n",
       "      <td>0.121317</td>\n",
       "      <td>0.137505</td>\n",
       "      <td>1.000000</td>\n",
       "      <td>0.070692</td>\n",
       "    </tr>\n",
       "    <tr>\n",
       "      <th>Price</th>\n",
       "      <td>0.009315</td>\n",
       "      <td>0.268122</td>\n",
       "      <td>0.575995</td>\n",
       "      <td>0.587153</td>\n",
       "      <td>0.413654</td>\n",
       "      <td>0.303117</td>\n",
       "      <td>0.125640</td>\n",
       "      <td>0.079445</td>\n",
       "      <td>0.030721</td>\n",
       "      <td>-0.057793</td>\n",
       "      <td>0.022094</td>\n",
       "      <td>-0.041743</td>\n",
       "      <td>0.264160</td>\n",
       "      <td>0.239888</td>\n",
       "      <td>0.074433</td>\n",
       "      <td>0.140202</td>\n",
       "      <td>0.250222</td>\n",
       "      <td>0.182414</td>\n",
       "      <td>0.070692</td>\n",
       "      <td>1.000000</td>\n",
       "    </tr>\n",
       "  </tbody>\n",
       "</table>\n",
       "</div>"
      ],
      "text/plain": [
       "                     Id  DistrictId     Rooms    Square  LifeSquare  \\\n",
       "Id             1.000000    0.013121 -0.006145 -0.004354   -0.004127   \n",
       "DistrictId     0.013121    1.000000  0.077007 -0.027737   -0.062989   \n",
       "Rooms         -0.006145    0.077007  1.000000  0.779301    0.629425   \n",
       "Square        -0.004354   -0.027737  0.779301  1.000000    0.742127   \n",
       "LifeSquare    -0.004127   -0.062989  0.629425  0.742127    1.000000   \n",
       "KitchenSquare  0.014222    0.244466  0.129985  0.091034   -0.041160   \n",
       "Floor          0.002511   -0.123473 -0.001876  0.122227    0.111751   \n",
       "HouseFloor    -0.006134   -0.157527 -0.028316  0.085228    0.100855   \n",
       "HouseYear      0.004099   -0.202475 -0.046335  0.183535    0.183354   \n",
       "Ecology_1      0.017297    0.064061 -0.030516 -0.068971   -0.061778   \n",
       "Ecology_2      0.003093   -0.093699 -0.002612  0.031883    0.025216   \n",
       "Ecology_3     -0.005796   -0.029476 -0.006578  0.034056    0.034844   \n",
       "Social_1      -0.001678    0.247281  0.077892 -0.076487   -0.144140   \n",
       "Social_2      -0.002826    0.168084  0.072082 -0.047263   -0.110777   \n",
       "Social_3      -0.007377    0.139152  0.015459  0.014447    0.038935   \n",
       "Healthcare_1  -0.004178    0.304043  0.041947 -0.046252   -0.042749   \n",
       "Helthcare_2    0.001205    0.307341  0.067291 -0.039050   -0.076899   \n",
       "Shops_1       -0.007859    0.175241  0.055329  0.006899   -0.008045   \n",
       "Shops_2        0.004586   -0.021161 -0.000498 -0.057668   -0.035535   \n",
       "Price          0.009315    0.268122  0.575995  0.587153    0.413654   \n",
       "\n",
       "               KitchenSquare     Floor  HouseFloor  HouseYear  Ecology_1  \\\n",
       "Id                  0.014222  0.002511   -0.006134   0.004099   0.017297   \n",
       "DistrictId          0.244466 -0.123473   -0.157527  -0.202475   0.064061   \n",
       "Rooms               0.129985 -0.001876   -0.028316  -0.046335  -0.030516   \n",
       "Square              0.091034  0.122227    0.085228   0.183535  -0.068971   \n",
       "LifeSquare         -0.041160  0.111751    0.100855   0.183354  -0.061778   \n",
       "KitchenSquare       1.000000 -0.022819    0.169162   0.166240   0.028795   \n",
       "Floor              -0.022819  1.000000    0.421559   0.284392  -0.015193   \n",
       "HouseFloor          0.169162  0.421559    1.000000   0.407628  -0.000423   \n",
       "HouseYear           0.166240  0.284392    0.407628   1.000000  -0.063987   \n",
       "Ecology_1           0.028795 -0.015193   -0.000423  -0.063987   1.000000   \n",
       "Ecology_2          -0.012257  0.049982    0.061487   0.076619  -0.110894   \n",
       "Ecology_3          -0.066575  0.033559    0.026085   0.049803  -0.225203   \n",
       "Social_1            0.375135 -0.048601   -0.024449  -0.046313   0.025902   \n",
       "Social_2            0.340249 -0.019816    0.004416   0.015362   0.008849   \n",
       "Social_3           -0.066866 -0.008832   -0.027729  -0.053950  -0.122329   \n",
       "Healthcare_1        0.119225 -0.139334   -0.161481  -0.207090  -0.044293   \n",
       "Helthcare_2         0.204725 -0.076957   -0.091054  -0.120857   0.031961   \n",
       "Shops_1             0.113367  0.018940    0.014502  -0.003593  -0.075741   \n",
       "Shops_2             0.038046 -0.017448    0.048365  -0.058045   0.079790   \n",
       "Price               0.303117  0.125640    0.079445   0.030721  -0.057793   \n",
       "\n",
       "               Ecology_2  Ecology_3  Social_1  Social_2  Social_3  \\\n",
       "Id              0.003093  -0.005796 -0.001678 -0.002826 -0.007377   \n",
       "DistrictId     -0.093699  -0.029476  0.247281  0.168084  0.139152   \n",
       "Rooms          -0.002612  -0.006578  0.077892  0.072082  0.015459   \n",
       "Square          0.031883   0.034056 -0.076487 -0.047263  0.014447   \n",
       "LifeSquare      0.025216   0.034844 -0.144140 -0.110777  0.038935   \n",
       "KitchenSquare  -0.012257  -0.066575  0.375135  0.340249 -0.066866   \n",
       "Floor           0.049982   0.033559 -0.048601 -0.019816 -0.008832   \n",
       "HouseFloor      0.061487   0.026085 -0.024449  0.004416 -0.027729   \n",
       "HouseYear       0.076619   0.049803 -0.046313  0.015362 -0.053950   \n",
       "Ecology_1      -0.110894  -0.225203  0.025902  0.008849 -0.122329   \n",
       "Ecology_2       1.000000  -0.016570 -0.066165 -0.012680  0.008284   \n",
       "Ecology_3      -0.016570   1.000000 -0.036409  0.008420  0.014635   \n",
       "Social_1       -0.066165  -0.036409  1.000000  0.955965  0.024474   \n",
       "Social_2       -0.012680   0.008420  0.955965  1.000000  0.073142   \n",
       "Social_3        0.008284   0.014635  0.024474  0.073142  1.000000   \n",
       "Healthcare_1   -0.031838  -0.115303  0.077923  0.050723  0.136091   \n",
       "Helthcare_2    -0.083661  -0.129019  0.526139  0.475182  0.287004   \n",
       "Shops_1         0.052144  -0.000595  0.529052  0.561178  0.657862   \n",
       "Shops_2         0.022429  -0.049924  0.142190  0.141544  0.082347   \n",
       "Price           0.022094  -0.041743  0.264160  0.239888  0.074433   \n",
       "\n",
       "               Healthcare_1  Helthcare_2   Shops_1   Shops_2     Price  \n",
       "Id                -0.004178     0.001205 -0.007859  0.004586  0.009315  \n",
       "DistrictId         0.304043     0.307341  0.175241 -0.021161  0.268122  \n",
       "Rooms              0.041947     0.067291  0.055329 -0.000498  0.575995  \n",
       "Square            -0.046252    -0.039050  0.006899 -0.057668  0.587153  \n",
       "LifeSquare        -0.042749    -0.076899 -0.008045 -0.035535  0.413654  \n",
       "KitchenSquare      0.119225     0.204725  0.113367  0.038046  0.303117  \n",
       "Floor             -0.139334    -0.076957  0.018940 -0.017448  0.125640  \n",
       "HouseFloor        -0.161481    -0.091054  0.014502  0.048365  0.079445  \n",
       "HouseYear         -0.207090    -0.120857 -0.003593 -0.058045  0.030721  \n",
       "Ecology_1         -0.044293     0.031961 -0.075741  0.079790 -0.057793  \n",
       "Ecology_2         -0.031838    -0.083661  0.052144  0.022429  0.022094  \n",
       "Ecology_3         -0.115303    -0.129019 -0.000595 -0.049924 -0.041743  \n",
       "Social_1           0.077923     0.526139  0.529052  0.142190  0.264160  \n",
       "Social_2           0.050723     0.475182  0.561178  0.141544  0.239888  \n",
       "Social_3           0.136091     0.287004  0.657862  0.082347  0.074433  \n",
       "Healthcare_1       1.000000     0.207804  0.058479 -0.031193  0.140202  \n",
       "Helthcare_2        0.207804     1.000000  0.474665  0.121317  0.250222  \n",
       "Shops_1            0.058479     0.474665  1.000000  0.137505  0.182414  \n",
       "Shops_2           -0.031193     0.121317  0.137505  1.000000  0.070692  \n",
       "Price              0.140202     0.250222  0.182414  0.070692  1.000000  "
      ]
     },
     "execution_count": 15,
     "metadata": {},
     "output_type": "execute_result"
    }
   ],
   "source": [
    "data_clear.corr()"
   ]
  },
  {
   "cell_type": "code",
   "execution_count": 19,
   "metadata": {},
   "outputs": [],
   "source": [
    "data1 = data_clear.drop('Healthcare_1',axis=1)"
   ]
  },
  {
   "cell_type": "code",
   "execution_count": null,
   "metadata": {},
   "outputs": [],
   "source": []
  },
  {
   "cell_type": "code",
   "execution_count": 20,
   "metadata": {},
   "outputs": [],
   "source": [
    "feature_names=('Rooms','Square','LifeSquare','KitchenSquare')"
   ]
  },
  {
   "cell_type": "code",
   "execution_count": 160,
   "metadata": {},
   "outputs": [
    {
     "data": {
      "text/html": [
       "<div>\n",
       "<style scoped>\n",
       "    .dataframe tbody tr th:only-of-type {\n",
       "        vertical-align: middle;\n",
       "    }\n",
       "\n",
       "    .dataframe tbody tr th {\n",
       "        vertical-align: top;\n",
       "    }\n",
       "\n",
       "    .dataframe thead th {\n",
       "        text-align: right;\n",
       "    }\n",
       "</style>\n",
       "<table border=\"1\" class=\"dataframe\">\n",
       "  <thead>\n",
       "    <tr style=\"text-align: right;\">\n",
       "      <th></th>\n",
       "      <th>Rooms</th>\n",
       "      <th>Square</th>\n",
       "      <th>LifeSquare</th>\n",
       "      <th>KitchenSquare</th>\n",
       "    </tr>\n",
       "  </thead>\n",
       "  <tbody>\n",
       "    <tr>\n",
       "      <th>0</th>\n",
       "      <td>2</td>\n",
       "      <td>47.981561</td>\n",
       "      <td>29.442751</td>\n",
       "      <td>6</td>\n",
       "    </tr>\n",
       "    <tr>\n",
       "      <th>1</th>\n",
       "      <td>3</td>\n",
       "      <td>65.683640</td>\n",
       "      <td>40.049543</td>\n",
       "      <td>8</td>\n",
       "    </tr>\n",
       "    <tr>\n",
       "      <th>2</th>\n",
       "      <td>2</td>\n",
       "      <td>44.947953</td>\n",
       "      <td>29.197612</td>\n",
       "      <td>0</td>\n",
       "    </tr>\n",
       "    <tr>\n",
       "      <th>3</th>\n",
       "      <td>2</td>\n",
       "      <td>53.352981</td>\n",
       "      <td>52.731512</td>\n",
       "      <td>9</td>\n",
       "    </tr>\n",
       "    <tr>\n",
       "      <th>4</th>\n",
       "      <td>1</td>\n",
       "      <td>39.649192</td>\n",
       "      <td>23.776169</td>\n",
       "      <td>7</td>\n",
       "    </tr>\n",
       "  </tbody>\n",
       "</table>\n",
       "</div>"
      ],
      "text/plain": [
       "   Rooms     Square  LifeSquare  KitchenSquare\n",
       "0      2  47.981561   29.442751              6\n",
       "1      3  65.683640   40.049543              8\n",
       "2      2  44.947953   29.197612              0\n",
       "3      2  53.352981   52.731512              9\n",
       "4      1  39.649192   23.776169              7"
      ]
     },
     "execution_count": 160,
     "metadata": {},
     "output_type": "execute_result"
    }
   ],
   "source": [
    "X = pd.DataFrame(data1, columns=feature_names)\n",
    "X.head()"
   ]
  },
  {
   "cell_type": "code",
   "execution_count": 24,
   "metadata": {},
   "outputs": [
    {
     "name": "stdout",
     "output_type": "stream",
     "text": [
      "<class 'pandas.core.frame.DataFrame'>\n",
      "RangeIndex: 9913 entries, 0 to 9912\n",
      "Data columns (total 4 columns):\n",
      "Rooms            9913 non-null int64\n",
      "Square           9913 non-null float64\n",
      "LifeSquare       7802 non-null float64\n",
      "KitchenSquare    9913 non-null int64\n",
      "dtypes: float64(2), int64(2)\n",
      "memory usage: 309.9 KB\n"
     ]
    }
   ],
   "source": [
    "X.info()"
   ]
  },
  {
   "cell_type": "code",
   "execution_count": 161,
   "metadata": {},
   "outputs": [
    {
     "data": {
      "text/html": [
       "<div>\n",
       "<style scoped>\n",
       "    .dataframe tbody tr th:only-of-type {\n",
       "        vertical-align: middle;\n",
       "    }\n",
       "\n",
       "    .dataframe tbody tr th {\n",
       "        vertical-align: top;\n",
       "    }\n",
       "\n",
       "    .dataframe thead th {\n",
       "        text-align: right;\n",
       "    }\n",
       "</style>\n",
       "<table border=\"1\" class=\"dataframe\">\n",
       "  <thead>\n",
       "    <tr style=\"text-align: right;\">\n",
       "      <th></th>\n",
       "      <th>Price</th>\n",
       "    </tr>\n",
       "  </thead>\n",
       "  <tbody>\n",
       "    <tr>\n",
       "      <th>0</th>\n",
       "      <td>184966.9307</td>\n",
       "    </tr>\n",
       "    <tr>\n",
       "      <th>1</th>\n",
       "      <td>300009.4501</td>\n",
       "    </tr>\n",
       "    <tr>\n",
       "      <th>2</th>\n",
       "      <td>220925.9085</td>\n",
       "    </tr>\n",
       "    <tr>\n",
       "      <th>3</th>\n",
       "      <td>175616.2272</td>\n",
       "    </tr>\n",
       "    <tr>\n",
       "      <th>4</th>\n",
       "      <td>150226.5316</td>\n",
       "    </tr>\n",
       "  </tbody>\n",
       "</table>\n",
       "</div>"
      ],
      "text/plain": [
       "         Price\n",
       "0  184966.9307\n",
       "1  300009.4501\n",
       "2  220925.9085\n",
       "3  175616.2272\n",
       "4  150226.5316"
      ]
     },
     "execution_count": 161,
     "metadata": {},
     "output_type": "execute_result"
    }
   ],
   "source": [
    "y = pd.DataFrame(data1, columns=[\"Price\"])\n",
    "\n",
    "y.head()"
   ]
  },
  {
   "cell_type": "code",
   "execution_count": 101,
   "metadata": {},
   "outputs": [
    {
     "name": "stdout",
     "output_type": "stream",
     "text": [
      "<class 'pandas.core.frame.DataFrame'>\n",
      "RangeIndex: 7802 entries, 0 to 7801\n",
      "Data columns (total 1 columns):\n",
      "0    7802 non-null float64\n",
      "dtypes: float64(1)\n",
      "memory usage: 61.0 KB\n"
     ]
    },
    {
     "data": {
      "text/html": [
       "<div>\n",
       "<style scoped>\n",
       "    .dataframe tbody tr th:only-of-type {\n",
       "        vertical-align: middle;\n",
       "    }\n",
       "\n",
       "    .dataframe tbody tr th {\n",
       "        vertical-align: top;\n",
       "    }\n",
       "\n",
       "    .dataframe thead th {\n",
       "        text-align: right;\n",
       "    }\n",
       "</style>\n",
       "<table border=\"1\" class=\"dataframe\">\n",
       "  <thead>\n",
       "    <tr style=\"text-align: right;\">\n",
       "      <th></th>\n",
       "      <th>0</th>\n",
       "    </tr>\n",
       "  </thead>\n",
       "  <tbody>\n",
       "    <tr>\n",
       "      <th>0</th>\n",
       "      <td>29.442751</td>\n",
       "    </tr>\n",
       "    <tr>\n",
       "      <th>1</th>\n",
       "      <td>40.049543</td>\n",
       "    </tr>\n",
       "    <tr>\n",
       "      <th>2</th>\n",
       "      <td>29.197612</td>\n",
       "    </tr>\n",
       "    <tr>\n",
       "      <th>3</th>\n",
       "      <td>52.731512</td>\n",
       "    </tr>\n",
       "    <tr>\n",
       "      <th>4</th>\n",
       "      <td>23.776169</td>\n",
       "    </tr>\n",
       "  </tbody>\n",
       "</table>\n",
       "</div>"
      ],
      "text/plain": [
       "           0\n",
       "0  29.442751\n",
       "1  40.049543\n",
       "2  29.197612\n",
       "3  52.731512\n",
       "4  23.776169"
      ]
     },
     "execution_count": 101,
     "metadata": {},
     "output_type": "execute_result"
    }
   ],
   "source": [
    "y1 = ((X[['LifeSquare']][X.LifeSquare>0]).values)\n",
    "y1 = pd.DataFrame(y1)\n",
    "y1.info()\n",
    "y1.head()"
   ]
  },
  {
   "cell_type": "code",
   "execution_count": 102,
   "metadata": {},
   "outputs": [
    {
     "name": "stdout",
     "output_type": "stream",
     "text": [
      "<class 'pandas.core.frame.DataFrame'>\n",
      "RangeIndex: 7802 entries, 0 to 7801\n",
      "Data columns (total 1 columns):\n",
      "0    7802 non-null float64\n",
      "dtypes: float64(1)\n",
      "memory usage: 61.0 KB\n"
     ]
    }
   ],
   "source": [
    "X1=((X[['Square']][X.LifeSquare>0]).values)\n",
    "X1 = pd.DataFrame(X1)\n",
    "X1.info()"
   ]
  },
  {
   "cell_type": "code",
   "execution_count": 103,
   "metadata": {},
   "outputs": [
    {
     "data": {
      "text/html": [
       "<div>\n",
       "<style scoped>\n",
       "    .dataframe tbody tr th:only-of-type {\n",
       "        vertical-align: middle;\n",
       "    }\n",
       "\n",
       "    .dataframe tbody tr th {\n",
       "        vertical-align: top;\n",
       "    }\n",
       "\n",
       "    .dataframe thead th {\n",
       "        text-align: right;\n",
       "    }\n",
       "</style>\n",
       "<table border=\"1\" class=\"dataframe\">\n",
       "  <thead>\n",
       "    <tr style=\"text-align: right;\">\n",
       "      <th></th>\n",
       "      <th>0</th>\n",
       "    </tr>\n",
       "  </thead>\n",
       "  <tbody>\n",
       "    <tr>\n",
       "      <th>0</th>\n",
       "      <td>47.981561</td>\n",
       "    </tr>\n",
       "    <tr>\n",
       "      <th>1</th>\n",
       "      <td>65.683640</td>\n",
       "    </tr>\n",
       "    <tr>\n",
       "      <th>2</th>\n",
       "      <td>44.947953</td>\n",
       "    </tr>\n",
       "    <tr>\n",
       "      <th>3</th>\n",
       "      <td>53.352981</td>\n",
       "    </tr>\n",
       "    <tr>\n",
       "      <th>4</th>\n",
       "      <td>39.649192</td>\n",
       "    </tr>\n",
       "  </tbody>\n",
       "</table>\n",
       "</div>"
      ],
      "text/plain": [
       "           0\n",
       "0  47.981561\n",
       "1  65.683640\n",
       "2  44.947953\n",
       "3  53.352981\n",
       "4  39.649192"
      ]
     },
     "execution_count": 103,
     "metadata": {},
     "output_type": "execute_result"
    }
   ],
   "source": [
    "X1.rename(columns={'0':'Square'})\n",
    "X1.head()\n"
   ]
  },
  {
   "cell_type": "code",
   "execution_count": null,
   "metadata": {},
   "outputs": [],
   "source": []
  },
  {
   "cell_type": "code",
   "execution_count": null,
   "metadata": {},
   "outputs": [],
   "source": []
  },
  {
   "cell_type": "code",
   "execution_count": 104,
   "metadata": {},
   "outputs": [],
   "source": [
    "from sklearn.model_selection import train_test_split\n",
    "X1_train, X1_test, y1_train, y1_test = train_test_split(X1, y1, test_size=0.25)"
   ]
  },
  {
   "cell_type": "code",
   "execution_count": 119,
   "metadata": {},
   "outputs": [
    {
     "data": {
      "text/html": [
       "<div>\n",
       "<style scoped>\n",
       "    .dataframe tbody tr th:only-of-type {\n",
       "        vertical-align: middle;\n",
       "    }\n",
       "\n",
       "    .dataframe tbody tr th {\n",
       "        vertical-align: top;\n",
       "    }\n",
       "\n",
       "    .dataframe thead th {\n",
       "        text-align: right;\n",
       "    }\n",
       "</style>\n",
       "<table border=\"1\" class=\"dataframe\">\n",
       "  <thead>\n",
       "    <tr style=\"text-align: right;\">\n",
       "      <th></th>\n",
       "      <th>0</th>\n",
       "    </tr>\n",
       "  </thead>\n",
       "  <tbody>\n",
       "    <tr>\n",
       "      <th>0</th>\n",
       "      <td>29.442751</td>\n",
       "    </tr>\n",
       "    <tr>\n",
       "      <th>1</th>\n",
       "      <td>40.049543</td>\n",
       "    </tr>\n",
       "    <tr>\n",
       "      <th>2</th>\n",
       "      <td>29.197612</td>\n",
       "    </tr>\n",
       "    <tr>\n",
       "      <th>3</th>\n",
       "      <td>52.731512</td>\n",
       "    </tr>\n",
       "    <tr>\n",
       "      <th>4</th>\n",
       "      <td>23.776169</td>\n",
       "    </tr>\n",
       "  </tbody>\n",
       "</table>\n",
       "</div>"
      ],
      "text/plain": [
       "           0\n",
       "0  29.442751\n",
       "1  40.049543\n",
       "2  29.197612\n",
       "3  52.731512\n",
       "4  23.776169"
      ]
     },
     "execution_count": 119,
     "metadata": {},
     "output_type": "execute_result"
    }
   ],
   "source": [
    "y1.head()"
   ]
  },
  {
   "cell_type": "code",
   "execution_count": 106,
   "metadata": {},
   "outputs": [],
   "source": [
    "from sklearn.linear_model import LinearRegression\n",
    "lr = LinearRegression()"
   ]
  },
  {
   "cell_type": "code",
   "execution_count": 107,
   "metadata": {},
   "outputs": [
    {
     "data": {
      "text/plain": [
       "LinearRegression(copy_X=True, fit_intercept=True, n_jobs=None,\n",
       "         normalize=False)"
      ]
     },
     "execution_count": 107,
     "metadata": {},
     "output_type": "execute_result"
    }
   ],
   "source": [
    "lr.fit(X1_train, y1_train)\n"
   ]
  },
  {
   "cell_type": "code",
   "execution_count": 139,
   "metadata": {},
   "outputs": [
    {
     "name": "stdout",
     "output_type": "stream",
     "text": [
      "<class 'pandas.core.frame.DataFrame'>\n",
      "RangeIndex: 9913 entries, 0 to 9912\n",
      "Data columns (total 1 columns):\n",
      "fact    9913 non-null float64\n",
      "dtypes: float64(1)\n",
      "memory usage: 77.5 KB\n"
     ]
    },
    {
     "data": {
      "text/plain": [
       "(9913, 1)"
      ]
     },
     "execution_count": 139,
     "metadata": {},
     "output_type": "execute_result"
    }
   ],
   "source": [
    "X2=((X[['Square']]).values)\n",
    "X2 = pd.DataFrame({\"fact\":X2.flatten()})\n",
    "X2.info()\n",
    "y2_pred = lr.predict(X2)\n",
    "\n",
    "y2_pred.shape\n",
    "\n"
   ]
  },
  {
   "cell_type": "code",
   "execution_count": 171,
   "metadata": {},
   "outputs": [],
   "source": [
    "X['LifeSquare']=y2_pred"
   ]
  },
  {
   "cell_type": "code",
   "execution_count": 172,
   "metadata": {},
   "outputs": [
    {
     "name": "stdout",
     "output_type": "stream",
     "text": [
      "<class 'pandas.core.frame.DataFrame'>\n",
      "RangeIndex: 9913 entries, 0 to 9912\n",
      "Data columns (total 4 columns):\n",
      "Rooms            9913 non-null int64\n",
      "Square           9913 non-null float64\n",
      "LifeSquare       9913 non-null float64\n",
      "KitchenSquare    9913 non-null int64\n",
      "dtypes: float64(2), int64(2)\n",
      "memory usage: 309.9 KB\n"
     ]
    }
   ],
   "source": [
    "X.info()"
   ]
  },
  {
   "cell_type": "code",
   "execution_count": 173,
   "metadata": {},
   "outputs": [
    {
     "data": {
      "text/html": [
       "<div>\n",
       "<style scoped>\n",
       "    .dataframe tbody tr th:only-of-type {\n",
       "        vertical-align: middle;\n",
       "    }\n",
       "\n",
       "    .dataframe tbody tr th {\n",
       "        vertical-align: top;\n",
       "    }\n",
       "\n",
       "    .dataframe thead th {\n",
       "        text-align: right;\n",
       "    }\n",
       "</style>\n",
       "<table border=\"1\" class=\"dataframe\">\n",
       "  <thead>\n",
       "    <tr style=\"text-align: right;\">\n",
       "      <th></th>\n",
       "      <th>Rooms</th>\n",
       "      <th>Square</th>\n",
       "      <th>LifeSquare</th>\n",
       "      <th>KitchenSquare</th>\n",
       "    </tr>\n",
       "  </thead>\n",
       "  <tbody>\n",
       "    <tr>\n",
       "      <th>Rooms</th>\n",
       "      <td>1.000000</td>\n",
       "      <td>0.779301</td>\n",
       "      <td>0.779301</td>\n",
       "      <td>0.129985</td>\n",
       "    </tr>\n",
       "    <tr>\n",
       "      <th>Square</th>\n",
       "      <td>0.779301</td>\n",
       "      <td>1.000000</td>\n",
       "      <td>1.000000</td>\n",
       "      <td>0.091034</td>\n",
       "    </tr>\n",
       "    <tr>\n",
       "      <th>LifeSquare</th>\n",
       "      <td>0.779301</td>\n",
       "      <td>1.000000</td>\n",
       "      <td>1.000000</td>\n",
       "      <td>0.091034</td>\n",
       "    </tr>\n",
       "    <tr>\n",
       "      <th>KitchenSquare</th>\n",
       "      <td>0.129985</td>\n",
       "      <td>0.091034</td>\n",
       "      <td>0.091034</td>\n",
       "      <td>1.000000</td>\n",
       "    </tr>\n",
       "  </tbody>\n",
       "</table>\n",
       "</div>"
      ],
      "text/plain": [
       "                  Rooms    Square  LifeSquare  KitchenSquare\n",
       "Rooms          1.000000  0.779301    0.779301       0.129985\n",
       "Square         0.779301  1.000000    1.000000       0.091034\n",
       "LifeSquare     0.779301  1.000000    1.000000       0.091034\n",
       "KitchenSquare  0.129985  0.091034    0.091034       1.000000"
      ]
     },
     "execution_count": 173,
     "metadata": {},
     "output_type": "execute_result"
    }
   ],
   "source": [
    "X.corr()"
   ]
  },
  {
   "cell_type": "code",
   "execution_count": 203,
   "metadata": {},
   "outputs": [],
   "source": [
    "test =pd.read_csv('test.csv')"
   ]
  },
  {
   "cell_type": "code",
   "execution_count": 204,
   "metadata": {},
   "outputs": [
    {
     "data": {
      "text/html": [
       "<div>\n",
       "<style scoped>\n",
       "    .dataframe tbody tr th:only-of-type {\n",
       "        vertical-align: middle;\n",
       "    }\n",
       "\n",
       "    .dataframe tbody tr th {\n",
       "        vertical-align: top;\n",
       "    }\n",
       "\n",
       "    .dataframe thead th {\n",
       "        text-align: right;\n",
       "    }\n",
       "</style>\n",
       "<table border=\"1\" class=\"dataframe\">\n",
       "  <thead>\n",
       "    <tr style=\"text-align: right;\">\n",
       "      <th></th>\n",
       "      <th>Rooms</th>\n",
       "      <th>Square</th>\n",
       "      <th>LifeSquare</th>\n",
       "      <th>KitchenSquare</th>\n",
       "    </tr>\n",
       "  </thead>\n",
       "  <tbody>\n",
       "    <tr>\n",
       "      <th>0</th>\n",
       "      <td>2.0</td>\n",
       "      <td>49.882643</td>\n",
       "      <td>33.432782</td>\n",
       "      <td>6.0</td>\n",
       "    </tr>\n",
       "    <tr>\n",
       "      <th>1</th>\n",
       "      <td>2.0</td>\n",
       "      <td>69.263183</td>\n",
       "      <td>NaN</td>\n",
       "      <td>1.0</td>\n",
       "    </tr>\n",
       "    <tr>\n",
       "      <th>2</th>\n",
       "      <td>1.0</td>\n",
       "      <td>13.597819</td>\n",
       "      <td>15.948246</td>\n",
       "      <td>12.0</td>\n",
       "    </tr>\n",
       "    <tr>\n",
       "      <th>3</th>\n",
       "      <td>2.0</td>\n",
       "      <td>73.046609</td>\n",
       "      <td>51.940842</td>\n",
       "      <td>9.0</td>\n",
       "    </tr>\n",
       "    <tr>\n",
       "      <th>4</th>\n",
       "      <td>1.0</td>\n",
       "      <td>47.527111</td>\n",
       "      <td>43.387569</td>\n",
       "      <td>1.0</td>\n",
       "    </tr>\n",
       "  </tbody>\n",
       "</table>\n",
       "</div>"
      ],
      "text/plain": [
       "   Rooms     Square  LifeSquare  KitchenSquare\n",
       "0    2.0  49.882643   33.432782            6.0\n",
       "1    2.0  69.263183         NaN            1.0\n",
       "2    1.0  13.597819   15.948246           12.0\n",
       "3    2.0  73.046609   51.940842            9.0\n",
       "4    1.0  47.527111   43.387569            1.0"
      ]
     },
     "execution_count": 204,
     "metadata": {},
     "output_type": "execute_result"
    }
   ],
   "source": [
    "X_aim = pd.DataFrame(test, columns=feature_names)\n",
    "X_aim.head()"
   ]
  },
  {
   "cell_type": "code",
   "execution_count": 207,
   "metadata": {},
   "outputs": [
    {
     "name": "stdout",
     "output_type": "stream",
     "text": [
      "<class 'pandas.core.frame.DataFrame'>\n",
      "RangeIndex: 3959 entries, 0 to 3958\n",
      "Data columns (total 1 columns):\n",
      "0    3959 non-null float64\n",
      "dtypes: float64(1)\n",
      "memory usage: 31.0 KB\n"
     ]
    },
    {
     "data": {
      "text/html": [
       "<div>\n",
       "<style scoped>\n",
       "    .dataframe tbody tr th:only-of-type {\n",
       "        vertical-align: middle;\n",
       "    }\n",
       "\n",
       "    .dataframe tbody tr th {\n",
       "        vertical-align: top;\n",
       "    }\n",
       "\n",
       "    .dataframe thead th {\n",
       "        text-align: right;\n",
       "    }\n",
       "</style>\n",
       "<table border=\"1\" class=\"dataframe\">\n",
       "  <thead>\n",
       "    <tr style=\"text-align: right;\">\n",
       "      <th></th>\n",
       "      <th>0</th>\n",
       "    </tr>\n",
       "  </thead>\n",
       "  <tbody>\n",
       "    <tr>\n",
       "      <th>0</th>\n",
       "      <td>33.432782</td>\n",
       "    </tr>\n",
       "    <tr>\n",
       "      <th>1</th>\n",
       "      <td>15.948246</td>\n",
       "    </tr>\n",
       "    <tr>\n",
       "      <th>2</th>\n",
       "      <td>51.940842</td>\n",
       "    </tr>\n",
       "    <tr>\n",
       "      <th>3</th>\n",
       "      <td>43.387569</td>\n",
       "    </tr>\n",
       "    <tr>\n",
       "      <th>4</th>\n",
       "      <td>64.843025</td>\n",
       "    </tr>\n",
       "  </tbody>\n",
       "</table>\n",
       "</div>"
      ],
      "text/plain": [
       "           0\n",
       "0  33.432782\n",
       "1  15.948246\n",
       "2  51.940842\n",
       "3  43.387569\n",
       "4  64.843025"
      ]
     },
     "execution_count": 207,
     "metadata": {},
     "output_type": "execute_result"
    }
   ],
   "source": [
    "y3 = ((X_aim[['LifeSquare']][X_aim.LifeSquare>0]).values)\n",
    "y3 = pd.DataFrame(y3)\n",
    "y3.info()\n",
    "y3.head()"
   ]
  },
  {
   "cell_type": "code",
   "execution_count": 208,
   "metadata": {},
   "outputs": [
    {
     "name": "stdout",
     "output_type": "stream",
     "text": [
      "<class 'pandas.core.frame.DataFrame'>\n",
      "RangeIndex: 3959 entries, 0 to 3958\n",
      "Data columns (total 1 columns):\n",
      "0    3959 non-null float64\n",
      "dtypes: float64(1)\n",
      "memory usage: 31.0 KB\n"
     ]
    }
   ],
   "source": [
    "X3=((X_aim[['Square']][X_aim.LifeSquare>0]).values)\n",
    "X3 = pd.DataFrame(X3)\n",
    "X3.info()"
   ]
  },
  {
   "cell_type": "code",
   "execution_count": 209,
   "metadata": {},
   "outputs": [],
   "source": [
    "from sklearn.model_selection import train_test_split\n",
    "X3_train, X3_test, y3_train, y3_test = train_test_split(X3, y3, test_size=0.25)"
   ]
  },
  {
   "cell_type": "code",
   "execution_count": 210,
   "metadata": {},
   "outputs": [],
   "source": [
    "from sklearn.linear_model import LinearRegression\n",
    "lr3 = LinearRegression()"
   ]
  },
  {
   "cell_type": "code",
   "execution_count": 211,
   "metadata": {},
   "outputs": [
    {
     "data": {
      "text/plain": [
       "LinearRegression(copy_X=True, fit_intercept=True, n_jobs=None,\n",
       "         normalize=False)"
      ]
     },
     "execution_count": 211,
     "metadata": {},
     "output_type": "execute_result"
    }
   ],
   "source": [
    "lr3.fit(X3_train, y3_train)\n"
   ]
  },
  {
   "cell_type": "code",
   "execution_count": 212,
   "metadata": {},
   "outputs": [
    {
     "name": "stdout",
     "output_type": "stream",
     "text": [
      "<class 'pandas.core.frame.DataFrame'>\n",
      "RangeIndex: 5000 entries, 0 to 4999\n",
      "Data columns (total 1 columns):\n",
      "fact    5000 non-null float64\n",
      "dtypes: float64(1)\n",
      "memory usage: 39.1 KB\n"
     ]
    },
    {
     "data": {
      "text/plain": [
       "(5000, 1)"
      ]
     },
     "execution_count": 212,
     "metadata": {},
     "output_type": "execute_result"
    }
   ],
   "source": [
    "X4=((X_aim[['Square']]).values)\n",
    "X4 = pd.DataFrame({\"fact\":X4.flatten()})\n",
    "X4.info()\n",
    "y4_pred = lr3.predict(X4)\n",
    "\n",
    "y4_pred.shape\n",
    "\n"
   ]
  },
  {
   "cell_type": "code",
   "execution_count": 213,
   "metadata": {},
   "outputs": [],
   "source": [
    "X_aim['LifeSquare']=y4_pred"
   ]
  },
  {
   "cell_type": "code",
   "execution_count": 214,
   "metadata": {},
   "outputs": [
    {
     "name": "stdout",
     "output_type": "stream",
     "text": [
      "<class 'pandas.core.frame.DataFrame'>\n",
      "RangeIndex: 5000 entries, 0 to 4999\n",
      "Data columns (total 4 columns):\n",
      "Rooms            5000 non-null float64\n",
      "Square           5000 non-null float64\n",
      "LifeSquare       5000 non-null float64\n",
      "KitchenSquare    5000 non-null float64\n",
      "dtypes: float64(4)\n",
      "memory usage: 156.3 KB\n"
     ]
    }
   ],
   "source": [
    "X_aim.info()"
   ]
  },
  {
   "cell_type": "code",
   "execution_count": 174,
   "metadata": {},
   "outputs": [],
   "source": [
    "from sklearn.model_selection import train_test_split"
   ]
  },
  {
   "cell_type": "code",
   "execution_count": 175,
   "metadata": {},
   "outputs": [],
   "source": [
    "X_train, X_test, y_train, y_test = train_test_split(X, y, test_size=0.25)"
   ]
  },
  {
   "cell_type": "code",
   "execution_count": 176,
   "metadata": {},
   "outputs": [],
   "source": [
    "from sklearn.linear_model import LinearRegression"
   ]
  },
  {
   "cell_type": "code",
   "execution_count": 223,
   "metadata": {},
   "outputs": [
    {
     "data": {
      "text/html": [
       "<div>\n",
       "<style scoped>\n",
       "    .dataframe tbody tr th:only-of-type {\n",
       "        vertical-align: middle;\n",
       "    }\n",
       "\n",
       "    .dataframe tbody tr th {\n",
       "        vertical-align: top;\n",
       "    }\n",
       "\n",
       "    .dataframe thead th {\n",
       "        text-align: right;\n",
       "    }\n",
       "</style>\n",
       "<table border=\"1\" class=\"dataframe\">\n",
       "  <thead>\n",
       "    <tr style=\"text-align: right;\">\n",
       "      <th></th>\n",
       "      <th>Rooms</th>\n",
       "      <th>Square</th>\n",
       "      <th>LifeSquare</th>\n",
       "      <th>KitchenSquare</th>\n",
       "    </tr>\n",
       "  </thead>\n",
       "  <tbody>\n",
       "    <tr>\n",
       "      <th>27</th>\n",
       "      <td>2</td>\n",
       "      <td>64.556209</td>\n",
       "      <td>42.384492</td>\n",
       "      <td>1</td>\n",
       "    </tr>\n",
       "    <tr>\n",
       "      <th>4290</th>\n",
       "      <td>2</td>\n",
       "      <td>56.334792</td>\n",
       "      <td>36.749500</td>\n",
       "      <td>8</td>\n",
       "    </tr>\n",
       "    <tr>\n",
       "      <th>6279</th>\n",
       "      <td>1</td>\n",
       "      <td>38.309825</td>\n",
       "      <td>24.395115</td>\n",
       "      <td>10</td>\n",
       "    </tr>\n",
       "    <tr>\n",
       "      <th>3658</th>\n",
       "      <td>1</td>\n",
       "      <td>38.718684</td>\n",
       "      <td>24.675348</td>\n",
       "      <td>7</td>\n",
       "    </tr>\n",
       "    <tr>\n",
       "      <th>5281</th>\n",
       "      <td>2</td>\n",
       "      <td>59.162890</td>\n",
       "      <td>38.687890</td>\n",
       "      <td>11</td>\n",
       "    </tr>\n",
       "  </tbody>\n",
       "</table>\n",
       "</div>"
      ],
      "text/plain": [
       "      Rooms     Square  LifeSquare  KitchenSquare\n",
       "27        2  64.556209   42.384492              1\n",
       "4290      2  56.334792   36.749500              8\n",
       "6279      1  38.309825   24.395115             10\n",
       "3658      1  38.718684   24.675348              7\n",
       "5281      2  59.162890   38.687890             11"
      ]
     },
     "execution_count": 223,
     "metadata": {},
     "output_type": "execute_result"
    }
   ],
   "source": [
    "lr4 = LinearRegression()\n",
    "X_train.head()"
   ]
  },
  {
   "cell_type": "code",
   "execution_count": 230,
   "metadata": {},
   "outputs": [
    {
     "data": {
      "text/plain": [
       "LinearRegression(copy_X=True, fit_intercept=True, n_jobs=None,\n",
       "         normalize=False)"
      ]
     },
     "execution_count": 230,
     "metadata": {},
     "output_type": "execute_result"
    }
   ],
   "source": [
    "lr4.fit(X_train, y_train)"
   ]
  },
  {
   "cell_type": "code",
   "execution_count": 231,
   "metadata": {},
   "outputs": [
    {
     "data": {
      "text/plain": [
       "(2479, 1)"
      ]
     },
     "execution_count": 231,
     "metadata": {},
     "output_type": "execute_result"
    }
   ],
   "source": [
    "y_pred = lr4.predict(X_test)\n",
    "\n",
    "y_pred.shape"
   ]
  },
  {
   "cell_type": "code",
   "execution_count": 232,
   "metadata": {},
   "outputs": [
    {
     "data": {
      "text/html": [
       "<div>\n",
       "<style scoped>\n",
       "    .dataframe tbody tr th:only-of-type {\n",
       "        vertical-align: middle;\n",
       "    }\n",
       "\n",
       "    .dataframe tbody tr th {\n",
       "        vertical-align: top;\n",
       "    }\n",
       "\n",
       "    .dataframe thead th {\n",
       "        text-align: right;\n",
       "    }\n",
       "</style>\n",
       "<table border=\"1\" class=\"dataframe\">\n",
       "  <thead>\n",
       "    <tr style=\"text-align: right;\">\n",
       "      <th></th>\n",
       "      <th>y_test</th>\n",
       "      <th>y_pred</th>\n",
       "    </tr>\n",
       "  </thead>\n",
       "  <tbody>\n",
       "    <tr>\n",
       "      <th>1677</th>\n",
       "      <td>315753.0383</td>\n",
       "      <td>271888.0</td>\n",
       "    </tr>\n",
       "    <tr>\n",
       "      <th>9734</th>\n",
       "      <td>185030.5835</td>\n",
       "      <td>145632.0</td>\n",
       "    </tr>\n",
       "    <tr>\n",
       "      <th>7597</th>\n",
       "      <td>449776.1044</td>\n",
       "      <td>285616.0</td>\n",
       "    </tr>\n",
       "    <tr>\n",
       "      <th>275</th>\n",
       "      <td>175868.0820</td>\n",
       "      <td>199600.0</td>\n",
       "    </tr>\n",
       "    <tr>\n",
       "      <th>2578</th>\n",
       "      <td>245847.9810</td>\n",
       "      <td>240864.0</td>\n",
       "    </tr>\n",
       "    <tr>\n",
       "      <th>7166</th>\n",
       "      <td>135953.3986</td>\n",
       "      <td>132320.0</td>\n",
       "    </tr>\n",
       "    <tr>\n",
       "      <th>5040</th>\n",
       "      <td>268191.6151</td>\n",
       "      <td>246496.0</td>\n",
       "    </tr>\n",
       "    <tr>\n",
       "      <th>8906</th>\n",
       "      <td>107067.4276</td>\n",
       "      <td>148960.0</td>\n",
       "    </tr>\n",
       "    <tr>\n",
       "      <th>9110</th>\n",
       "      <td>177116.3397</td>\n",
       "      <td>171232.0</td>\n",
       "    </tr>\n",
       "    <tr>\n",
       "      <th>849</th>\n",
       "      <td>344513.1191</td>\n",
       "      <td>236352.0</td>\n",
       "    </tr>\n",
       "  </tbody>\n",
       "</table>\n",
       "</div>"
      ],
      "text/plain": [
       "           y_test    y_pred\n",
       "1677  315753.0383  271888.0\n",
       "9734  185030.5835  145632.0\n",
       "7597  449776.1044  285616.0\n",
       "275   175868.0820  199600.0\n",
       "2578  245847.9810  240864.0\n",
       "7166  135953.3986  132320.0\n",
       "5040  268191.6151  246496.0\n",
       "8906  107067.4276  148960.0\n",
       "9110  177116.3397  171232.0\n",
       "849   344513.1191  236352.0"
      ]
     },
     "execution_count": 232,
     "metadata": {},
     "output_type": "execute_result"
    }
   ],
   "source": [
    "check_test = pd.DataFrame({\n",
    "    \"y_test\": y_test[\"Price\"],\n",
    "    \"y_pred\": y_pred.flatten(),\n",
    "})\n",
    "\n",
    "check_test.head(10)"
   ]
  },
  {
   "cell_type": "code",
   "execution_count": 233,
   "metadata": {},
   "outputs": [
    {
     "data": {
      "text/plain": [
       "4846432910.78741"
      ]
     },
     "execution_count": 233,
     "metadata": {},
     "output_type": "execute_result"
    }
   ],
   "source": [
    "from sklearn.metrics import mean_squared_error\n",
    "\n",
    "mean_squared_error(check_test[\"y_pred\"], check_test[\"y_test\"])"
   ]
  },
  {
   "cell_type": "code",
   "execution_count": 234,
   "metadata": {},
   "outputs": [
    {
     "data": {
      "text/plain": [
       "47608.51236597418"
      ]
     },
     "execution_count": 234,
     "metadata": {},
     "output_type": "execute_result"
    }
   ],
   "source": [
    "from sklearn.metrics import mean_absolute_error\n",
    "\n",
    "mean_absolute_error(check_test[\"y_pred\"], check_test[\"y_test\"])"
   ]
  },
  {
   "cell_type": "code",
   "execution_count": 235,
   "metadata": {},
   "outputs": [
    {
     "data": {
      "text/html": [
       "<div>\n",
       "<style scoped>\n",
       "    .dataframe tbody tr th:only-of-type {\n",
       "        vertical-align: middle;\n",
       "    }\n",
       "\n",
       "    .dataframe tbody tr th {\n",
       "        vertical-align: top;\n",
       "    }\n",
       "\n",
       "    .dataframe thead th {\n",
       "        text-align: right;\n",
       "    }\n",
       "</style>\n",
       "<table border=\"1\" class=\"dataframe\">\n",
       "  <thead>\n",
       "    <tr style=\"text-align: right;\">\n",
       "      <th></th>\n",
       "      <th>Rooms</th>\n",
       "      <th>Square</th>\n",
       "      <th>LifeSquare</th>\n",
       "      <th>KitchenSquare</th>\n",
       "    </tr>\n",
       "  </thead>\n",
       "  <tbody>\n",
       "    <tr>\n",
       "      <th>0</th>\n",
       "      <td>2.0</td>\n",
       "      <td>49.882643</td>\n",
       "      <td>32.527410</td>\n",
       "      <td>6.0</td>\n",
       "    </tr>\n",
       "    <tr>\n",
       "      <th>1</th>\n",
       "      <td>2.0</td>\n",
       "      <td>69.263183</td>\n",
       "      <td>45.513902</td>\n",
       "      <td>1.0</td>\n",
       "    </tr>\n",
       "    <tr>\n",
       "      <th>2</th>\n",
       "      <td>1.0</td>\n",
       "      <td>13.597819</td>\n",
       "      <td>8.213712</td>\n",
       "      <td>12.0</td>\n",
       "    </tr>\n",
       "    <tr>\n",
       "      <th>3</th>\n",
       "      <td>2.0</td>\n",
       "      <td>73.046609</td>\n",
       "      <td>48.049096</td>\n",
       "      <td>9.0</td>\n",
       "    </tr>\n",
       "    <tr>\n",
       "      <th>4</th>\n",
       "      <td>1.0</td>\n",
       "      <td>47.527111</td>\n",
       "      <td>30.949017</td>\n",
       "      <td>1.0</td>\n",
       "    </tr>\n",
       "  </tbody>\n",
       "</table>\n",
       "</div>"
      ],
      "text/plain": [
       "   Rooms     Square  LifeSquare  KitchenSquare\n",
       "0    2.0  49.882643   32.527410            6.0\n",
       "1    2.0  69.263183   45.513902            1.0\n",
       "2    1.0  13.597819    8.213712           12.0\n",
       "3    2.0  73.046609   48.049096            9.0\n",
       "4    1.0  47.527111   30.949017            1.0"
      ]
     },
     "execution_count": 235,
     "metadata": {},
     "output_type": "execute_result"
    }
   ],
   "source": [
    "y_aim1 = lr4.predict(X_aim)\n",
    "\n",
    "X_aim.head()"
   ]
  },
  {
   "cell_type": "code",
   "execution_count": 236,
   "metadata": {},
   "outputs": [
    {
     "data": {
      "text/html": [
       "<div>\n",
       "<style scoped>\n",
       "    .dataframe tbody tr th:only-of-type {\n",
       "        vertical-align: middle;\n",
       "    }\n",
       "\n",
       "    .dataframe tbody tr th {\n",
       "        vertical-align: top;\n",
       "    }\n",
       "\n",
       "    .dataframe thead th {\n",
       "        text-align: right;\n",
       "    }\n",
       "</style>\n",
       "<table border=\"1\" class=\"dataframe\">\n",
       "  <thead>\n",
       "    <tr style=\"text-align: right;\">\n",
       "      <th></th>\n",
       "      <th>0</th>\n",
       "    </tr>\n",
       "  </thead>\n",
       "  <tbody>\n",
       "    <tr>\n",
       "      <th>0</th>\n",
       "      <td>-1.321874e+16</td>\n",
       "    </tr>\n",
       "    <tr>\n",
       "      <th>1</th>\n",
       "      <td>6.388216e+15</td>\n",
       "    </tr>\n",
       "    <tr>\n",
       "      <th>2</th>\n",
       "      <td>-4.992746e+16</td>\n",
       "    </tr>\n",
       "    <tr>\n",
       "      <th>3</th>\n",
       "      <td>1.021584e+16</td>\n",
       "    </tr>\n",
       "    <tr>\n",
       "      <th>4</th>\n",
       "      <td>-1.560179e+16</td>\n",
       "    </tr>\n",
       "  </tbody>\n",
       "</table>\n",
       "</div>"
      ],
      "text/plain": [
       "              0\n",
       "0 -1.321874e+16\n",
       "1  6.388216e+15\n",
       "2 -4.992746e+16\n",
       "3  1.021584e+16\n",
       "4 -1.560179e+16"
      ]
     },
     "execution_count": 236,
     "metadata": {},
     "output_type": "execute_result"
    }
   ],
   "source": [
    "pd.DataFrame(y_aim1).head()"
   ]
  },
  {
   "cell_type": "code",
   "execution_count": 237,
   "metadata": {},
   "outputs": [
    {
     "ename": "PermissionError",
     "evalue": "[Errno 13] Permission denied: 'y_aim1.csv'",
     "output_type": "error",
     "traceback": [
      "\u001b[1;31m---------------------------------------------------------------------------\u001b[0m",
      "\u001b[1;31mPermissionError\u001b[0m                           Traceback (most recent call last)",
      "\u001b[1;32m<ipython-input-237-ea34f486fe51>\u001b[0m in \u001b[0;36m<module>\u001b[1;34m\u001b[0m\n\u001b[1;32m----> 1\u001b[1;33m \u001b[0mpd\u001b[0m\u001b[1;33m.\u001b[0m\u001b[0mDataFrame\u001b[0m\u001b[1;33m(\u001b[0m\u001b[0my_aim1\u001b[0m\u001b[1;33m)\u001b[0m\u001b[1;33m.\u001b[0m\u001b[0mto_csv\u001b[0m\u001b[1;33m(\u001b[0m\u001b[1;34m'y_aim1.csv'\u001b[0m\u001b[1;33m)\u001b[0m\u001b[1;33m\u001b[0m\u001b[1;33m\u001b[0m\u001b[0m\n\u001b[0m",
      "\u001b[1;32mC:\\ProgramData\\Anaconda3\\lib\\site-packages\\pandas\\core\\generic.py\u001b[0m in \u001b[0;36mto_csv\u001b[1;34m(self, path_or_buf, sep, na_rep, float_format, columns, header, index, index_label, mode, encoding, compression, quoting, quotechar, line_terminator, chunksize, tupleize_cols, date_format, doublequote, escapechar, decimal)\u001b[0m\n\u001b[0;32m   3018\u001b[0m                                  \u001b[0mdoublequote\u001b[0m\u001b[1;33m=\u001b[0m\u001b[0mdoublequote\u001b[0m\u001b[1;33m,\u001b[0m\u001b[1;33m\u001b[0m\u001b[1;33m\u001b[0m\u001b[0m\n\u001b[0;32m   3019\u001b[0m                                  escapechar=escapechar, decimal=decimal)\n\u001b[1;32m-> 3020\u001b[1;33m         \u001b[0mformatter\u001b[0m\u001b[1;33m.\u001b[0m\u001b[0msave\u001b[0m\u001b[1;33m(\u001b[0m\u001b[1;33m)\u001b[0m\u001b[1;33m\u001b[0m\u001b[1;33m\u001b[0m\u001b[0m\n\u001b[0m\u001b[0;32m   3021\u001b[0m \u001b[1;33m\u001b[0m\u001b[0m\n\u001b[0;32m   3022\u001b[0m         \u001b[1;32mif\u001b[0m \u001b[0mpath_or_buf\u001b[0m \u001b[1;32mis\u001b[0m \u001b[1;32mNone\u001b[0m\u001b[1;33m:\u001b[0m\u001b[1;33m\u001b[0m\u001b[1;33m\u001b[0m\u001b[0m\n",
      "\u001b[1;32mC:\\ProgramData\\Anaconda3\\lib\\site-packages\\pandas\\io\\formats\\csvs.py\u001b[0m in \u001b[0;36msave\u001b[1;34m(self)\u001b[0m\n\u001b[0;32m    155\u001b[0m             f, handles = _get_handle(self.path_or_buf, self.mode,\n\u001b[0;32m    156\u001b[0m                                      \u001b[0mencoding\u001b[0m\u001b[1;33m=\u001b[0m\u001b[0mself\u001b[0m\u001b[1;33m.\u001b[0m\u001b[0mencoding\u001b[0m\u001b[1;33m,\u001b[0m\u001b[1;33m\u001b[0m\u001b[1;33m\u001b[0m\u001b[0m\n\u001b[1;32m--> 157\u001b[1;33m                                      compression=self.compression)\n\u001b[0m\u001b[0;32m    158\u001b[0m             \u001b[0mclose\u001b[0m \u001b[1;33m=\u001b[0m \u001b[1;32mTrue\u001b[0m\u001b[1;33m\u001b[0m\u001b[1;33m\u001b[0m\u001b[0m\n\u001b[0;32m    159\u001b[0m \u001b[1;33m\u001b[0m\u001b[0m\n",
      "\u001b[1;32mC:\\ProgramData\\Anaconda3\\lib\\site-packages\\pandas\\io\\common.py\u001b[0m in \u001b[0;36m_get_handle\u001b[1;34m(path_or_buf, mode, encoding, compression, memory_map, is_text)\u001b[0m\n\u001b[0;32m    422\u001b[0m         \u001b[1;32melif\u001b[0m \u001b[0mencoding\u001b[0m\u001b[1;33m:\u001b[0m\u001b[1;33m\u001b[0m\u001b[1;33m\u001b[0m\u001b[0m\n\u001b[0;32m    423\u001b[0m             \u001b[1;31m# Python 3 and encoding\u001b[0m\u001b[1;33m\u001b[0m\u001b[1;33m\u001b[0m\u001b[1;33m\u001b[0m\u001b[0m\n\u001b[1;32m--> 424\u001b[1;33m             \u001b[0mf\u001b[0m \u001b[1;33m=\u001b[0m \u001b[0mopen\u001b[0m\u001b[1;33m(\u001b[0m\u001b[0mpath_or_buf\u001b[0m\u001b[1;33m,\u001b[0m \u001b[0mmode\u001b[0m\u001b[1;33m,\u001b[0m \u001b[0mencoding\u001b[0m\u001b[1;33m=\u001b[0m\u001b[0mencoding\u001b[0m\u001b[1;33m,\u001b[0m \u001b[0mnewline\u001b[0m\u001b[1;33m=\u001b[0m\u001b[1;34m\"\"\u001b[0m\u001b[1;33m)\u001b[0m\u001b[1;33m\u001b[0m\u001b[1;33m\u001b[0m\u001b[0m\n\u001b[0m\u001b[0;32m    425\u001b[0m         \u001b[1;32melif\u001b[0m \u001b[0mis_text\u001b[0m\u001b[1;33m:\u001b[0m\u001b[1;33m\u001b[0m\u001b[1;33m\u001b[0m\u001b[0m\n\u001b[0;32m    426\u001b[0m             \u001b[1;31m# Python 3 and no explicit encoding\u001b[0m\u001b[1;33m\u001b[0m\u001b[1;33m\u001b[0m\u001b[1;33m\u001b[0m\u001b[0m\n",
      "\u001b[1;31mPermissionError\u001b[0m: [Errno 13] Permission denied: 'y_aim1.csv'"
     ]
    }
   ],
   "source": [
    "pd.DataFrame(y_aim1).to_csv('y_aim1.csv')"
   ]
  },
  {
   "cell_type": "code",
   "execution_count": 184,
   "metadata": {},
   "outputs": [
    {
     "data": {
      "text/plain": [
       "array([-1.22958878e+17])"
      ]
     },
     "execution_count": 184,
     "metadata": {},
     "output_type": "execute_result"
    }
   ],
   "source": [
    "lr.intercept_"
   ]
  },
  {
   "cell_type": "code",
   "execution_count": 185,
   "metadata": {},
   "outputs": [
    {
     "data": {
      "text/plain": [
       "array([-1.22958878e+17])"
      ]
     },
     "execution_count": 185,
     "metadata": {},
     "output_type": "execute_result"
    }
   ],
   "source": [
    "lr.intercept_"
   ]
  },
  {
   "cell_type": "code",
   "execution_count": 186,
   "metadata": {},
   "outputs": [],
   "source": [
    "from matplotlib import pyplot as plt\n",
    "\n",
    "plt.rcParams['figure.figsize'] = 6, 4\n",
    "\n",
    "%matplotlib inline"
   ]
  },
  {
   "cell_type": "code",
   "execution_count": 187,
   "metadata": {},
   "outputs": [
    {
     "data": {
      "image/png": "[encoded data removed]",
      "text/plain": [
       "<Figure size 432x288 with 1 Axes>"
      ]
     },
     "metadata": {
      "needs_background": "light"
     },
     "output_type": "display_data"
    }
   ],
   "source": [
    "plt.barh(feature_names, lr.coef_.flatten())\n",
    "\n",
    "plt.xlabel(\"Вес признака\")\n",
    "plt.ylabel(\"Признак\")\n",
    "\n",
    "plt.show()"
   ]
  },
  {
   "cell_type": "code",
   "execution_count": 188,
   "metadata": {},
   "outputs": [],
   "source": [
    "from sklearn.preprocessing import StandardScaler\n",
    "\n",
    "scaler = StandardScaler()"
   ]
  },
  {
   "cell_type": "code",
   "execution_count": 189,
   "metadata": {},
   "outputs": [
    {
     "name": "stderr",
     "output_type": "stream",
     "text": [
      "C:\\ProgramData\\Anaconda3\\lib\\site-packages\\sklearn\\preprocessing\\data.py:645: DataConversionWarning: Data with input dtype int64, float64 were all converted to float64 by StandardScaler.\n",
      "  return self.partial_fit(X, y)\n",
      "C:\\ProgramData\\Anaconda3\\lib\\site-packages\\sklearn\\base.py:464: DataConversionWarning: Data with input dtype int64, float64 were all converted to float64 by StandardScaler.\n",
      "  return self.fit(X, **fit_params).transform(X)\n",
      "C:\\ProgramData\\Anaconda3\\lib\\site-packages\\sklearn\\preprocessing\\data.py:645: DataConversionWarning: Data with input dtype int64, float64 were all converted to float64 by StandardScaler.\n",
      "  return self.partial_fit(X, y)\n",
      "C:\\ProgramData\\Anaconda3\\lib\\site-packages\\sklearn\\base.py:464: DataConversionWarning: Data with input dtype int64, float64 were all converted to float64 by StandardScaler.\n",
      "  return self.fit(X, **fit_params).transform(X)\n"
     ]
    }
   ],
   "source": [
    "X_train_scaled = scaler.fit_transform(X_train)\n",
    "X_train_scaled = pd.DataFrame(X_train_scaled, columns=feature_names)\n",
    "\n",
    "X_test_scaled = scaler.fit_transform(X_test)\n",
    "X_test_scaled = pd.DataFrame(X_test_scaled, columns=feature_names)"
   ]
  },
  {
   "cell_type": "code",
   "execution_count": 238,
   "metadata": {},
   "outputs": [
    {
     "data": {
      "image/png": "[encoded data removed]",
      "text/plain": [
       "<Figure size 432x288 with 1 Axes>"
      ]
     },
     "metadata": {
      "needs_background": "light"
     },
     "output_type": "display_data"
    }
   ],
   "source": [
    "lr.fit(X_train_scaled, y_train)\n",
    "\n",
    "plt.barh(feature_names, lr.coef_.flatten())\n",
    "\n",
    "plt.xlabel(\"Вес признака\")\n",
    "plt.ylabel(\"Признак\")\n",
    "\n",
    "plt.show()"
   ]
  },
  {
   "cell_type": "code",
   "execution_count": 239,
   "metadata": {},
   "outputs": [
    {
     "data": {
      "text/plain": [
       "(2479, 1)"
      ]
     },
     "execution_count": 239,
     "metadata": {},
     "output_type": "execute_result"
    }
   ],
   "source": [
    "y_pred1 = lr.predict(X_test_scaled)\n",
    "\n",
    "y_pred1.shape"
   ]
  },
  {
   "cell_type": "code",
   "execution_count": 240,
   "metadata": {},
   "outputs": [
    {
     "data": {
      "text/html": [
       "<div>\n",
       "<style scoped>\n",
       "    .dataframe tbody tr th:only-of-type {\n",
       "        vertical-align: middle;\n",
       "    }\n",
       "\n",
       "    .dataframe tbody tr th {\n",
       "        vertical-align: top;\n",
       "    }\n",
       "\n",
       "    .dataframe thead th {\n",
       "        text-align: right;\n",
       "    }\n",
       "</style>\n",
       "<table border=\"1\" class=\"dataframe\">\n",
       "  <thead>\n",
       "    <tr style=\"text-align: right;\">\n",
       "      <th></th>\n",
       "      <th>y_test</th>\n",
       "      <th>y_pred</th>\n",
       "    </tr>\n",
       "  </thead>\n",
       "  <tbody>\n",
       "    <tr>\n",
       "      <th>1677</th>\n",
       "      <td>315753.0383</td>\n",
       "      <td>275595.449840</td>\n",
       "    </tr>\n",
       "    <tr>\n",
       "      <th>9734</th>\n",
       "      <td>185030.5835</td>\n",
       "      <td>145509.572465</td>\n",
       "    </tr>\n",
       "    <tr>\n",
       "      <th>7597</th>\n",
       "      <td>449776.1044</td>\n",
       "      <td>289793.572342</td>\n",
       "    </tr>\n",
       "    <tr>\n",
       "      <th>275</th>\n",
       "      <td>175868.0820</td>\n",
       "      <td>200783.998263</td>\n",
       "    </tr>\n",
       "    <tr>\n",
       "      <th>2578</th>\n",
       "      <td>245847.9810</td>\n",
       "      <td>242863.362306</td>\n",
       "    </tr>\n",
       "    <tr>\n",
       "      <th>7166</th>\n",
       "      <td>135953.3986</td>\n",
       "      <td>132403.434261</td>\n",
       "    </tr>\n",
       "    <tr>\n",
       "      <th>5040</th>\n",
       "      <td>268191.6151</td>\n",
       "      <td>249121.713751</td>\n",
       "    </tr>\n",
       "    <tr>\n",
       "      <th>8906</th>\n",
       "      <td>107067.4276</td>\n",
       "      <td>149759.306433</td>\n",
       "    </tr>\n",
       "    <tr>\n",
       "      <th>9110</th>\n",
       "      <td>177116.3397</td>\n",
       "      <td>172574.718428</td>\n",
       "    </tr>\n",
       "    <tr>\n",
       "      <th>849</th>\n",
       "      <td>344513.1191</td>\n",
       "      <td>238535.985914</td>\n",
       "    </tr>\n",
       "  </tbody>\n",
       "</table>\n",
       "</div>"
      ],
      "text/plain": [
       "           y_test         y_pred\n",
       "1677  315753.0383  275595.449840\n",
       "9734  185030.5835  145509.572465\n",
       "7597  449776.1044  289793.572342\n",
       "275   175868.0820  200783.998263\n",
       "2578  245847.9810  242863.362306\n",
       "7166  135953.3986  132403.434261\n",
       "5040  268191.6151  249121.713751\n",
       "8906  107067.4276  149759.306433\n",
       "9110  177116.3397  172574.718428\n",
       "849   344513.1191  238535.985914"
      ]
     },
     "execution_count": 240,
     "metadata": {},
     "output_type": "execute_result"
    }
   ],
   "source": [
    "check_test1 = pd.DataFrame({\n",
    "    \"y_test\": y_test[\"Price\"],\n",
    "    \"y_pred\": y_pred1.flatten(),\n",
    "})\n",
    "\n",
    "check_test1.head(10)"
   ]
  },
  {
   "cell_type": "code",
   "execution_count": 241,
   "metadata": {},
   "outputs": [
    {
     "data": {
      "text/plain": [
       "4849256668.423457"
      ]
     },
     "execution_count": 241,
     "metadata": {},
     "output_type": "execute_result"
    }
   ],
   "source": [
    "from sklearn.metrics import mean_squared_error\n",
    "\n",
    "mean_squared_error(check_test1[\"y_pred\"], check_test1[\"y_test\"])"
   ]
  },
  {
   "cell_type": "code",
   "execution_count": 242,
   "metadata": {},
   "outputs": [
    {
     "data": {
      "text/plain": [
       "47742.792162863574"
      ]
     },
     "execution_count": 242,
     "metadata": {},
     "output_type": "execute_result"
    }
   ],
   "source": [
    "from sklearn.metrics import mean_absolute_error\n",
    "\n",
    "mean_absolute_error(check_test1[\"y_pred\"], check_test1[\"y_test\"])"
   ]
  },
  {
   "cell_type": "code",
   "execution_count": 243,
   "metadata": {},
   "outputs": [],
   "source": [
    "X_aim_scaled = scaler.fit_transform(X_aim)\n",
    "X_aim_scaled = pd.DataFrame(X_aim_scaled, columns=feature_names)"
   ]
  },
  {
   "cell_type": "code",
   "execution_count": 244,
   "metadata": {},
   "outputs": [
    {
     "data": {
      "text/plain": [
       "(5000, 1)"
      ]
     },
     "execution_count": 244,
     "metadata": {},
     "output_type": "execute_result"
    }
   ],
   "source": [
    "y_aim2 = lr.predict(X_aim_scaled)\n",
    "\n",
    "y_aim2.shape"
   ]
  },
  {
   "cell_type": "code",
   "execution_count": null,
   "metadata": {},
   "outputs": [],
   "source": []
  },
  {
   "cell_type": "code",
   "execution_count": 248,
   "metadata": {},
   "outputs": [],
   "source": [
    "y_aim2 = pd.DataFrame({\"Price\":y_aim2.flatten()})"
   ]
  },
  {
   "cell_type": "code",
   "execution_count": 249,
   "metadata": {},
   "outputs": [
    {
     "data": {
      "text/html": [
       "<div>\n",
       "<style scoped>\n",
       "    .dataframe tbody tr th:only-of-type {\n",
       "        vertical-align: middle;\n",
       "    }\n",
       "\n",
       "    .dataframe tbody tr th {\n",
       "        vertical-align: top;\n",
       "    }\n",
       "\n",
       "    .dataframe thead th {\n",
       "        text-align: right;\n",
       "    }\n",
       "</style>\n",
       "<table border=\"1\" class=\"dataframe\">\n",
       "  <thead>\n",
       "    <tr style=\"text-align: right;\">\n",
       "      <th></th>\n",
       "      <th>Price</th>\n",
       "    </tr>\n",
       "  </thead>\n",
       "  <tbody>\n",
       "    <tr>\n",
       "      <th>0</th>\n",
       "      <td>205949.322008</td>\n",
       "    </tr>\n",
       "    <tr>\n",
       "      <th>1</th>\n",
       "      <td>227364.194753</td>\n",
       "    </tr>\n",
       "    <tr>\n",
       "      <th>2</th>\n",
       "      <td>127718.738915</td>\n",
       "    </tr>\n",
       "    <tr>\n",
       "      <th>3</th>\n",
       "      <td>251446.003682</td>\n",
       "    </tr>\n",
       "    <tr>\n",
       "      <th>4</th>\n",
       "      <td>160228.583897</td>\n",
       "    </tr>\n",
       "  </tbody>\n",
       "</table>\n",
       "</div>"
      ],
      "text/plain": [
       "           Price\n",
       "0  205949.322008\n",
       "1  227364.194753\n",
       "2  127718.738915\n",
       "3  251446.003682\n",
       "4  160228.583897"
      ]
     },
     "execution_count": 249,
     "metadata": {},
     "output_type": "execute_result"
    }
   ],
   "source": [
    "y_aim2.head()"
   ]
  },
  {
   "cell_type": "code",
   "execution_count": 250,
   "metadata": {},
   "outputs": [],
   "source": [
    "y_aim2.to_csv('y_aim2.csv')"
   ]
  },
  {
   "cell_type": "code",
   "execution_count": null,
   "metadata": {},
   "outputs": [],
   "source": []
  },
  {
   "cell_type": "code",
   "execution_count": null,
   "metadata": {},
   "outputs": [],
   "source": []
  }
 ],
 "metadata": {
  "kernelspec": {
   "display_name": "Python 3",
   "language": "python",
   "name": "python3"
  },
  "language_info": {
   "codemirror_mode": {
    "name": "ipython",
    "version": 3
   },
   "file_extension": ".py",
   "mimetype": "text/x-python",
   "name": "python",
   "nbconvert_exporter": "python",
   "pygments_lexer": "ipython3",
   "version": "3.7.3"
  }
 },
 "nbformat": 4,
 "nbformat_minor": 2
}
